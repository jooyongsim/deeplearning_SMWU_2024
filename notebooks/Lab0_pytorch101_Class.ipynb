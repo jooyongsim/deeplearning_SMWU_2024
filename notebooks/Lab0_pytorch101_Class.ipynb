{
  "cells": [
    {
      "cell_type": "markdown",
      "metadata": {
        "id": "QcJK3kXl--c3"
      },
      "source": [
        "# 숙명여자대학교 기계시스템학부 딥러닝 2024(강사: 심주용)\n",
        "\n",
        "아래 자료 출처: Stanford의 cs231n과 U.Mich의 EECS 498-007의 Assignments\n"
      ]
    },
    {
      "cell_type": "markdown",
      "metadata": {
        "id": "kQndOAmiVTO3"
      },
      "source": [
        "# Setup Code\n",
        "시작하기 전에 몇 가지 VM 환경을 살펴보고 환경을 설정을 알아봅시다.\n",
        "먼저 Virtual Machine의 CPU, RAM, Disk Spec을 확인합니다."
      ]
    },
    {
      "cell_type": "code",
      "source": [
        "a=1; b=2\n",
        "a+b"
      ],
      "metadata": {
        "colab": {
          "base_uri": "https://localhost:8080/"
        },
        "id": "_tbMATexYFBU",
        "outputId": "94ba1992-9153-4e37-f783-289db1b84409"
      },
      "execution_count": null,
      "outputs": [
        {
          "output_type": "execute_result",
          "data": {
            "text/plain": [
              "3"
            ]
          },
          "metadata": {},
          "execution_count": 11
        }
      ]
    },
    {
      "cell_type": "code",
      "source": [
        "!pwd"
      ],
      "metadata": {
        "colab": {
          "base_uri": "https://localhost:8080/"
        },
        "id": "4YZ5oLaPNP5R",
        "outputId": "6823729f-8cd8-43a5-f394-6718e5daa5c2"
      },
      "execution_count": null,
      "outputs": [
        {
          "output_type": "stream",
          "name": "stdout",
          "text": [
            "/content\n"
          ]
        }
      ]
    },
    {
      "cell_type": "code",
      "source": [
        "!ls /content -al"
      ],
      "metadata": {
        "colab": {
          "base_uri": "https://localhost:8080/"
        },
        "id": "DyQ9ENUTNcgx",
        "outputId": "6e211ecd-003b-4873-a9f1-154c20b262fe"
      },
      "execution_count": null,
      "outputs": [
        {
          "output_type": "stream",
          "name": "stdout",
          "text": [
            "total 16\n",
            "drwxr-xr-x 1 root root 4096 Apr  6 13:39 .\n",
            "drwxr-xr-x 1 root root 4096 Apr 10 04:08 ..\n",
            "drwxr-xr-x 4 root root 4096 Apr  6 13:38 .config\n",
            "drwxr-xr-x 1 root root 4096 Apr  6 13:39 sample_data\n"
          ]
        }
      ]
    },
    {
      "cell_type": "code",
      "source": [
        "!head /proc/cpuinfo"
      ],
      "metadata": {
        "colab": {
          "base_uri": "https://localhost:8080/"
        },
        "id": "ulugoSx4WV7y",
        "outputId": "3fc08487-0a74-4d36-ac12-972380f88a37"
      },
      "execution_count": null,
      "outputs": [
        {
          "output_type": "stream",
          "name": "stdout",
          "text": [
            "processor\t: 0\n",
            "vendor_id\t: GenuineIntel\n",
            "cpu family\t: 6\n",
            "model\t\t: 79\n",
            "model name\t: Intel(R) Xeon(R) CPU @ 2.20GHz\n",
            "stepping\t: 0\n",
            "microcode\t: 0xffffffff\n",
            "cpu MHz\t\t: 2200.154\n",
            "cache size\t: 56320 KB\n",
            "physical id\t: 0\n"
          ]
        }
      ]
    },
    {
      "cell_type": "code",
      "source": [
        "!free -h"
      ],
      "metadata": {
        "colab": {
          "base_uri": "https://localhost:8080/"
        },
        "id": "QPxAwfvoWpkQ",
        "outputId": "9784985e-61a3-4c87-e41d-91f7b5d81310"
      },
      "execution_count": null,
      "outputs": [
        {
          "output_type": "stream",
          "name": "stdout",
          "text": [
            "              total        used        free      shared  buff/cache   available\n",
            "Mem:           12Gi       799Mi       7.8Gi       1.0Mi       4.1Gi        11Gi\n",
            "Swap:            0B          0B          0B\n"
          ]
        }
      ]
    },
    {
      "cell_type": "code",
      "source": [
        "!df -h"
      ],
      "metadata": {
        "colab": {
          "base_uri": "https://localhost:8080/"
        },
        "id": "AzVh_vKkWryy",
        "outputId": "cebd5fcd-ea0f-4830-d2d5-9aa08d835780"
      },
      "execution_count": null,
      "outputs": [
        {
          "output_type": "stream",
          "name": "stdout",
          "text": [
            "Filesystem      Size  Used Avail Use% Mounted on\n",
            "overlay         108G   24G   85G  22% /\n",
            "tmpfs            64M     0   64M   0% /dev\n",
            "shm             5.8G     0  5.8G   0% /dev/shm\n",
            "/dev/root       2.0G  1.1G  841M  58% /usr/sbin/docker-init\n",
            "tmpfs           6.4G  144K  6.4G   1% /var/colab\n",
            "/dev/sda1        70G   43G   28G  61% /etc/hosts\n",
            "tmpfs           6.4G     0  6.4G   0% /proc/acpi\n",
            "tmpfs           6.4G     0  6.4G   0% /proc/scsi\n",
            "tmpfs           6.4G     0  6.4G   0% /sys/firmware\n"
          ]
        }
      ]
    },
    {
      "cell_type": "markdown",
      "metadata": {
        "id": "bCtoiSyVVTO8"
      },
      "source": [
        "### Google Colab Setup\n",
        "Next we need to run a few commands to set up our environment on Google Colab. If you are running this notebook on a local machine you can skip this section.\n",
        "\n",
        "Run the following cell to mount your Google Drive. Follow the link, sign in to your Google account (the same account you used to store this notebook!) and copy the authorization code into the text box that appears below."
      ]
    },
    {
      "cell_type": "code",
      "execution_count": null,
      "metadata": {
        "colab": {
          "base_uri": "https://localhost:8080/"
        },
        "id": "tHG0slB6VTO8",
        "outputId": "a9057419-f037-4b47-f511-5ac05bec4c43"
      },
      "outputs": [
        {
          "output_type": "stream",
          "name": "stdout",
          "text": [
            "Mounted at /content/drive\n"
          ]
        }
      ],
      "source": [
        "from google.colab import drive\n",
        "drive.mount('/content/drive')"
      ]
    },
    {
      "cell_type": "code",
      "source": [
        "!ls"
      ],
      "metadata": {
        "colab": {
          "base_uri": "https://localhost:8080/"
        },
        "id": "R_bMZv1oMUUP",
        "outputId": "4a535d4c-c858-422f-9801-b2b0463b096c"
      },
      "execution_count": null,
      "outputs": [
        {
          "output_type": "stream",
          "name": "stdout",
          "text": [
            "drive  sample_data\n"
          ]
        }
      ]
    },
    {
      "cell_type": "code",
      "source": [
        "!ls drive"
      ],
      "metadata": {
        "colab": {
          "base_uri": "https://localhost:8080/"
        },
        "id": "-u_1LXCWMYDL",
        "outputId": "7ad6419e-ce33-4470-f039-9500dc31b5b4"
      },
      "execution_count": null,
      "outputs": [
        {
          "output_type": "stream",
          "name": "stdout",
          "text": [
            "MyDrive  Othercomputers  Shareddrives\n"
          ]
        }
      ]
    },
    {
      "cell_type": "code",
      "source": [
        "!nvidia-smi"
      ],
      "metadata": {
        "id": "O3_B3ZRkOsOc",
        "colab": {
          "base_uri": "https://localhost:8080/"
        },
        "outputId": "5a8350e4-f68a-4698-989d-515e065259df"
      },
      "execution_count": null,
      "outputs": [
        {
          "output_type": "stream",
          "name": "stdout",
          "text": [
            "/bin/bash: nvidia-smi: command not found\n"
          ]
        }
      ]
    },
    {
      "cell_type": "markdown",
      "metadata": {
        "id": "Qc83ETI1a3o9"
      },
      "source": [
        "# Introduction\n",
        "\n",
        "Python 3 and [PyTorch](https://pytorch.org/) will be used throughout the semseter, so it is important to be familiar with them. This material in this notebook draws from the [Stanford CS231n](http://cs231n.github.io/python-numpy-tutorial/) and [CS228](https://github.com/kuleshov/cs228-material/blob/master/tutorials/python/cs228-python-tutorial.ipynb) Python and numpy tutorials, but this material focuses mainly on PyTorch.\n",
        "\n",
        "This notebook will walk you through many of the important features of PyTorch that you will need to use throughout the semester. In some cells and files you will see code blocks that look like this:\n",
        "\n",
        "```python\n",
        "##############################################################################\n",
        "#                    TODO: Write the equation for a line                     #\n",
        "##############################################################################\n",
        "pass\n",
        "##############################################################################\n",
        "#                              END OF YOUR CODE                              #\n",
        "##############################################################################\n",
        "```\n",
        "\n",
        "You should replace the `pass` statement with your own code and leave the blocks intact, like this:\n",
        "\n",
        "```python\n",
        "##############################################################################\n",
        "#                    TODO: Write the equation for a line                     #\n",
        "##############################################################################\n",
        "y = m * x + b\n",
        "##############################################################################\n",
        "#                              END OF YOUR CODE                              #\n",
        "##############################################################################\n",
        "```\n"
      ]
    },
    {
      "cell_type": "markdown",
      "metadata": {
        "id": "hQrEwOpXb9Gh"
      },
      "source": [
        "# Python 3\n"
      ]
    },
    {
      "cell_type": "markdown",
      "metadata": {
        "id": "xAKwfCs_mK3d"
      },
      "source": [
        "If you're unfamiliar with Python 3, here are some of the most common changes from Python 2 to look out for.\n"
      ]
    },
    {
      "cell_type": "markdown",
      "metadata": {
        "id": "zjosrOn8mOMV"
      },
      "source": [
        "### Print is a function"
      ]
    },
    {
      "cell_type": "code",
      "execution_count": null,
      "metadata": {
        "colab": {
          "base_uri": "https://localhost:8080/"
        },
        "id": "O41SjFuamR7d",
        "outputId": "62b64ece-0dbc-4b9c-ed69-00ec67e8a68e"
      },
      "outputs": [
        {
          "output_type": "stream",
          "name": "stdout",
          "text": [
            "Hello!\n"
          ]
        }
      ],
      "source": [
        "print(\"Hello!\")"
      ]
    },
    {
      "cell_type": "markdown",
      "metadata": {
        "id": "nEh1swLBmQN-"
      },
      "source": [
        "Without parentheses, printing will not work."
      ]
    },
    {
      "cell_type": "markdown",
      "metadata": {
        "id": "OgPaSNS2mVPn"
      },
      "source": [
        "### Floating point division by default"
      ]
    },
    {
      "cell_type": "code",
      "execution_count": null,
      "metadata": {
        "colab": {
          "base_uri": "https://localhost:8080/"
        },
        "id": "SQKlRZ8KmYDl",
        "outputId": "e9559da3-140a-4e91-f68d-0158c3cd00df"
      },
      "outputs": [
        {
          "output_type": "execute_result",
          "data": {
            "text/plain": [
              "2.5"
            ]
          },
          "metadata": {},
          "execution_count": 13
        }
      ],
      "source": [
        "5 / 2"
      ]
    },
    {
      "cell_type": "markdown",
      "metadata": {
        "id": "DOmfK0WWmb2V"
      },
      "source": [
        "To do integer division, we use two backslashes:"
      ]
    },
    {
      "cell_type": "code",
      "execution_count": null,
      "metadata": {
        "colab": {
          "base_uri": "https://localhost:8080/"
        },
        "id": "UUg1MjiPmgNX",
        "outputId": "0d0adfbf-7298-4250-eb39-752ebe76ccfe"
      },
      "outputs": [
        {
          "output_type": "execute_result",
          "data": {
            "text/plain": [
              "2"
            ]
          },
          "metadata": {},
          "execution_count": 14
        }
      ],
      "source": [
        "5 // 2"
      ]
    },
    {
      "cell_type": "markdown",
      "metadata": {
        "id": "zeH5501nmh7W"
      },
      "source": [
        "### range"
      ]
    },
    {
      "cell_type": "markdown",
      "metadata": {
        "id": "3wNKyyilmkMy"
      },
      "source": [
        "In Python 3, range(3) does not create a list of 3 elements as it would in Python 2, rather just creates a more memory efficient iterator."
      ]
    },
    {
      "cell_type": "code",
      "execution_count": null,
      "metadata": {
        "colab": {
          "base_uri": "https://localhost:8080/"
        },
        "id": "dP8Dk9PAmnQh",
        "outputId": "d4b09465-d12f-4460-cd8b-6ec1840f8e0a"
      },
      "outputs": [
        {
          "output_type": "stream",
          "name": "stdout",
          "text": [
            "0\n",
            "1\n",
            "2\n"
          ]
        }
      ],
      "source": [
        "for i in range(3):\n",
        "    print(i)"
      ]
    },
    {
      "cell_type": "code",
      "execution_count": null,
      "metadata": {
        "colab": {
          "base_uri": "https://localhost:8080/"
        },
        "id": "6SKbKDgLmqd-",
        "outputId": "d11ee16c-fef8-4893-8bdb-1881bb9cc744"
      },
      "outputs": [
        {
          "output_type": "execute_result",
          "data": {
            "text/plain": [
              "[0, 1, 2]"
            ]
          },
          "metadata": {},
          "execution_count": 17
        }
      ],
      "source": [
        "list(range(3))"
      ]
    },
    {
      "cell_type": "code",
      "execution_count": null,
      "metadata": {
        "colab": {
          "base_uri": "https://localhost:8080/"
        },
        "id": "Wm_VcW3VmsSD",
        "outputId": "097f6de9-2fd4-47de-e4f7-4d7df688020d"
      },
      "outputs": [
        {
          "output_type": "stream",
          "name": "stdout",
          "text": [
            "[0, 1, 2]\n"
          ]
        }
      ],
      "source": [
        "# If need be, can use the following to get a similar behavior to Python 2's range:\n",
        "print(list(range(3)))"
      ]
    },
    {
      "cell_type": "markdown",
      "metadata": {
        "id": "1MEmHrgBsgX4"
      },
      "source": [
        "# PyTorch"
      ]
    },
    {
      "cell_type": "markdown",
      "metadata": {
        "id": "c3e_Nux0siHo"
      },
      "source": [
        "[PyTorch](https://pytorch.org/) is an open source machine learning framework. At its core, PyTorch provides a few key features:\n",
        "\n",
        "- A multidimensional **Tensor** object, similar to [numpy](https://numpy.org/) but with GPU accelleration.\n",
        "- An optimized **autograd** engine for automatically computing derivatives\n",
        "- A clean, modular API for building and deploying **deep learning models**\n",
        "\n",
        "We will use PyTorch for all programming assignments throughout the semester. This notebook will focus on the **Tensor API**, as it is the main part of PyTorch that we will use for the first few assignments.\n",
        "\n",
        "You can find more information about PyTorch by following one of the [oficial tutorials](https://pytorch.org/tutorials/) or by [reading the documentation](https://pytorch.org/docs/stable/)."
      ]
    },
    {
      "cell_type": "markdown",
      "metadata": {
        "id": "zdiO3_y-vKQ9"
      },
      "source": [
        "To use PyTorch, we first need to import the `torch` package.\n",
        "\n",
        "We also check the version; the assignments in this course will use PyTorch verion 1.10.0, since this is the default version in Google Colab."
      ]
    },
    {
      "cell_type": "code",
      "execution_count": null,
      "metadata": {
        "colab": {
          "base_uri": "https://localhost:8080/"
        },
        "id": "sydFm14itrqq",
        "outputId": "53901bf4-96b3-41c8-a163-1ba43a8fd14e"
      },
      "outputs": [
        {
          "output_type": "stream",
          "name": "stdout",
          "text": [
            "2.0.0+cu118\n"
          ]
        }
      ],
      "source": [
        "import torch\n",
        "print(torch.__version__)"
      ]
    },
    {
      "cell_type": "markdown",
      "metadata": {
        "id": "HrBSx6hYu8ca"
      },
      "source": [
        "## Tensor Basics"
      ]
    },
    {
      "cell_type": "markdown",
      "metadata": {
        "id": "LWagwmXuvIle"
      },
      "source": [
        "### Creating and Accessing tensors"
      ]
    },
    {
      "cell_type": "markdown",
      "metadata": {
        "id": "Bf_SY4RzvAh_"
      },
      "source": [
        "A `torch` **tensor** is a multidimensional grid of values, all of the same type, and is indexed by a tuple of nonnegative integers. The number of dimensions is the **rank** of the tensor; the **shape** of a tensor is a tuple of integers giving the size of the array along each dimension.\n",
        "\n",
        "- Tensor의 **dimension**을 **rank**라고 하기도 합니다.\n",
        "- Tensor의 **shape**은 각 차원을 따라 배열의 크기를 나타내는 tuple입니다.\n",
        "\n",
        "We can initialize `torch` tensor from nested Python lists. We can access or mutate elements of a PyTorch tensor using square brackets.\n",
        "\n",
        "Accessing an element from a PyTorch tensor returns a PyTorch scalar; we can convert this to a Python scalar using the `.item()` method:"
      ]
    },
    {
      "cell_type": "code",
      "source": [
        "import numpy as np\n",
        "np.array([1,2,3])"
      ],
      "metadata": {
        "colab": {
          "base_uri": "https://localhost:8080/"
        },
        "id": "R2OI18qvZhMI",
        "outputId": "49326a58-31c0-45e5-bd71-a278fd010252"
      },
      "execution_count": null,
      "outputs": [
        {
          "output_type": "execute_result",
          "data": {
            "text/plain": [
              "array([1, 2, 3])"
            ]
          },
          "metadata": {},
          "execution_count": 20
        }
      ]
    },
    {
      "cell_type": "code",
      "source": [
        "type(np.array([1,2,3])[0])"
      ],
      "metadata": {
        "colab": {
          "base_uri": "https://localhost:8080/"
        },
        "id": "IIiTVvQTZ5WU",
        "outputId": "5e545979-ca6a-47dc-ba8d-af796ffcb6c0"
      },
      "execution_count": null,
      "outputs": [
        {
          "output_type": "execute_result",
          "data": {
            "text/plain": [
              "numpy.int64"
            ]
          },
          "metadata": {},
          "execution_count": 24
        }
      ]
    },
    {
      "cell_type": "code",
      "source": [
        "type(1), type(a[0].item())"
      ],
      "metadata": {
        "colab": {
          "base_uri": "https://localhost:8080/"
        },
        "id": "uc99jo8paR8P",
        "outputId": "e47861ca-3c49-46b1-f05e-da831f0233a9"
      },
      "execution_count": null,
      "outputs": [
        {
          "output_type": "execute_result",
          "data": {
            "text/plain": [
              "(int, int)"
            ]
          },
          "metadata": {},
          "execution_count": 27
        }
      ]
    },
    {
      "cell_type": "code",
      "execution_count": null,
      "metadata": {
        "colab": {
          "base_uri": "https://localhost:8080/"
        },
        "id": "IpwfVUvPu_lF",
        "outputId": "43426924-099e-42b0-e3b3-3edee754a295"
      },
      "outputs": [
        {
          "output_type": "stream",
          "name": "stdout",
          "text": [
            "Here is a:\n",
            "tensor([1, 2, 3])\n",
            "type(a):  <class 'torch.Tensor'>\n",
            "rank of a:  1\n",
            "a.shape:  torch.Size([3])\n",
            "\n",
            "a[0]:  tensor(1)\n",
            "type(a[0]):  <class 'torch.Tensor'>\n",
            "type(a[0].item()):  <class 'int'>\n",
            "\n",
            "a after mutating:\n",
            "tensor([ 1, 10,  3])\n"
          ]
        }
      ],
      "source": [
        "# Create a rank 1 tensor from a Python list\n",
        "a = torch.tensor([1, 2, 3])\n",
        "print('Here is a:')\n",
        "print(a)\n",
        "print('type(a): ', type(a))\n",
        "print('rank of a: ', a.dim())\n",
        "print('a.shape: ', a.shape)\n",
        "\n",
        "# Access elements using square brackets\n",
        "print()\n",
        "print('a[0]: ', a[0])\n",
        "print('type(a[0]): ', type(a[0]))\n",
        "print('type(a[0].item()): ', type(a[0].item()))\n",
        "\n",
        "# Mutate elements using square brackets\n",
        "a[1] = 10\n",
        "print()\n",
        "print('a after mutating:')\n",
        "print(a)"
      ]
    },
    {
      "cell_type": "markdown",
      "metadata": {
        "id": "FZq4zsnLEgXH"
      },
      "source": [
        "The example above shows a one-dimensional tensor; we can similarly create tensors with two or more dimensions:"
      ]
    },
    {
      "cell_type": "code",
      "execution_count": null,
      "metadata": {
        "colab": {
          "base_uri": "https://localhost:8080/"
        },
        "id": "7TcvHxpTFUcL",
        "outputId": "33ecc0fd-d7fa-4fca-f866-4f62e82bc1bd"
      },
      "outputs": [
        {
          "output_type": "stream",
          "name": "stdout",
          "text": [
            "Here is b:\n",
            "tensor([[1, 2, 3],\n",
            "        [4, 5, 5]])\n",
            "rank of b: 2\n",
            "b.shape:  torch.Size([2, 3])\n",
            "\n",
            "b[0, 1]: tensor(2)\n",
            "b[1, 2]: tensor(5)\n",
            "\n",
            "b after mutating:\n",
            "tensor([[  1,   2,   3],\n",
            "        [  4, 100,   5]])\n"
          ]
        }
      ],
      "source": [
        "# Create a two-dimensional tensor\n",
        "b = torch.tensor([[1, 2, 3], [4, 5, 5]])\n",
        "print('Here is b:')\n",
        "print(b)\n",
        "print('rank of b:', b.dim())\n",
        "print('b.shape: ', b.shape)\n",
        "\n",
        "# Access elements from a multidimensional tensor\n",
        "print()\n",
        "print('b[0, 1]:', b[0, 1])\n",
        "print('b[1, 2]:', b[1, 2])\n",
        "\n",
        "# Mutate elements of a multidimensional tensor\n",
        "b[1, 1] = 100\n",
        "print()\n",
        "print('b after mutating:')\n",
        "print(b)"
      ]
    },
    {
      "cell_type": "markdown",
      "metadata": {
        "id": "BBOsvh53GXa8"
      },
      "source": [
        "Now it's **your turn**. Complete the implementation of the functions `create_sample_tensor`, `mutate_tensor`, and `count_tensor_elements` to practice constructing, mutating, and thinking about the shapes of tensors."
      ]
    },
    {
      "cell_type": "code",
      "source": [
        "# Type hints.\n",
        "from typing import List, Tuple\n",
        "from torch import Tensor\n",
        "\n",
        "def create_sample_tensor() -> torch.Tensor:\n",
        "    \"\"\"\n",
        "    Return a torch Tensor of shape (3, 2) which is filled with zeros, except\n",
        "    for element (0, 1) which is set to 10 and element (1, 0) which is set to\n",
        "    100.\n",
        "\n",
        "    Returns:\n",
        "        Tensor of shape (3, 2) as described above.\n",
        "    \"\"\"\n",
        "    x = None\n",
        "    ##########################################################################\n",
        "    #                     TODO: Implement this function                      #\n",
        "    ##########################################################################\n",
        "    x = torch.Tensor([[0,10],[100,0], [0,0]])\n",
        "    ###########################################################################\n",
        "    #                            END OF YOUR CODE                             #\n",
        "    ###########################################################################\n",
        "    return x\n",
        "\n",
        "# Create a sample tensor\n",
        "x = create_sample_tensor()\n",
        "print('Here is the sample tensor:')\n",
        "print(x)\n"
      ],
      "metadata": {
        "colab": {
          "base_uri": "https://localhost:8080/"
        },
        "id": "Q-aWDqnBS6Tg",
        "outputId": "68ea33f7-9be0-416e-f47c-43230a150b52"
      },
      "execution_count": null,
      "outputs": [
        {
          "output_type": "stream",
          "name": "stdout",
          "text": [
            "Here is the sample tensor:\n",
            "tensor([[  0.,  10.],\n",
            "        [100.,   0.],\n",
            "        [  0.,   0.]])\n"
          ]
        }
      ]
    },
    {
      "cell_type": "code",
      "source": [
        "indices = [(0, 0), (1, 0), (1, 1)]\n",
        "values = [4, 5, 6]\n",
        "for ind, val in zip(indices, values):\n",
        "      print(ind, val)"
      ],
      "metadata": {
        "colab": {
          "base_uri": "https://localhost:8080/"
        },
        "id": "VYg0hXJuUKXS",
        "outputId": "d54a2245-f845-4bbe-a89b-414745a77b65"
      },
      "execution_count": null,
      "outputs": [
        {
          "output_type": "stream",
          "name": "stdout",
          "text": [
            "(0, 0) 4\n",
            "(1, 0) 5\n",
            "(1, 1) 6\n"
          ]
        }
      ]
    },
    {
      "cell_type": "code",
      "execution_count": null,
      "metadata": {
        "colab": {
          "base_uri": "https://localhost:8080/"
        },
        "id": "zjCIUzbaVTPs",
        "outputId": "c68b5ded-fbef-4525-c930-69403c05f6ce"
      },
      "outputs": [
        {
          "output_type": "stream",
          "name": "stdout",
          "text": [
            "\n",
            "After mutating:\n",
            "tensor([[ 4., 10.],\n",
            "        [ 5.,  6.],\n",
            "        [ 0.,  0.]])\n",
            "\n",
            "Correct shape:  True\n",
            "x[0, 0] correct:  True\n",
            "x[1, 0] correct:  True\n",
            "x[1, 1] correct:  True\n"
          ]
        }
      ],
      "source": [
        "\n",
        "def mutate_tensor(\n",
        "    x: Tensor, indices: List[Tuple[int, int]], values: List[float]\n",
        ") -> Tensor:\n",
        "    \"\"\"\n",
        "    Mutate the tensor x according to indices and values. Specifically, indices\n",
        "    is a list [(i0, j0), (i1, j1), ... ] of integer indices, and values is a\n",
        "    list [v0, v1, ...] of values. This function should mutate x by setting:\n",
        "\n",
        "    x[i0, j0] = v0\n",
        "    x[i1, j1] = v1\n",
        "\n",
        "    and so on.\n",
        "\n",
        "    If the same index pair appears multiple times in indices, you should set x\n",
        "    to the last one.\n",
        "\n",
        "    Args:\n",
        "        x: A Tensor of shape (H, W)\n",
        "        indices: A list of N tuples [(i0, j0), (i1, j1), ..., ]\n",
        "        values: A list of N values [v0, v1, ...]\n",
        "\n",
        "    Returns:\n",
        "        The input tensor x\n",
        "    \"\"\"\n",
        "    ##########################################################################\n",
        "    #                     TODO: Implement this function                      #\n",
        "    ##########################################################################\n",
        "    # Replace \"pass\" statement with your code\n",
        "    pass\n",
        "    #for ind, val in zip(indices, values):\n",
        "    #  x[ind] = val\n",
        "    ##########################################################################\n",
        "    #                            END OF YOUR CODE                            #\n",
        "    ##########################################################################\n",
        "    return x\n",
        "\n",
        "# Mutate the tensor by setting a few elements\n",
        "indices = [(0, 0), (1, 0), (1, 1)]\n",
        "values = [4, 5, 6]\n",
        "\n",
        "x = mutate_tensor(x, indices, values)\n",
        "\n",
        "print('\\nAfter mutating:')\n",
        "print(x)\n",
        "print('\\nCorrect shape: ', x.shape == (3, 2))\n",
        "print('x[0, 0] correct: ', x[0, 0].item() == 4)\n",
        "print('x[1, 0] correct: ', x[1, 0].item() == 5)\n",
        "print('x[1, 1] correct: ', x[1, 1].item() == 6)\n"
      ]
    },
    {
      "cell_type": "markdown",
      "source": [
        "### 과제 1: count_tensor_elements"
      ],
      "metadata": {
        "id": "-wF8Lboy_kHU"
      }
    },
    {
      "cell_type": "code",
      "source": [
        "x = torch.tensor([[1, 2, 3], [4, 5, 5]])\n",
        "x, x.shape\n",
        "n = 1\n",
        "for i in x.shape:\n",
        "  n = n*i\n",
        "  print(i, n)"
      ],
      "metadata": {
        "colab": {
          "base_uri": "https://localhost:8080/"
        },
        "id": "FbrfJhxvd9RD",
        "outputId": "59079700-b673-44d6-cd07-7529eb479911"
      },
      "execution_count": null,
      "outputs": [
        {
          "output_type": "stream",
          "name": "stdout",
          "text": [
            "2 2\n",
            "3 6\n"
          ]
        }
      ]
    },
    {
      "cell_type": "code",
      "source": [
        "# Check the number of elements in the sample tensor\n",
        "def count_tensor_elements(x: Tensor) -> int:\n",
        "    \"\"\"\n",
        "    Count the number of scalar elements in a tensor x.\n",
        "    For example, a tensor of shape (10,) has 10 elements; a tensor of shape\n",
        "    (3, 4) has 12 elements; a tensor of shape (2, 3, 4) has 24 elements, etc.\n",
        "    You may not use the functions torch.numel or x.numel. The input tensor\n",
        "    should not be modified.\n",
        "    Args:\n",
        "        x: A tensor of any shape\n",
        "    Returns:\n",
        "        num_elements: An integer giving the number of scalar elements in x\n",
        "    \"\"\"\n",
        "    num_elements = None\n",
        "    ##########################################################################\n",
        "    #                      TODO: Implement this function                     #\n",
        "    #   You CANNOT use the built-in functions torch.numel(x) or x.numel().   #\n",
        "    ##########################################################################\n",
        "    # Replace \"pass\" statement with your code\n",
        "    num_elements = 1\n",
        "    for i in x.shape:\n",
        "      num_elements *= i\n",
        "    ##########################################################################\n",
        "    #                            END OF YOUR CODE                            #\n",
        "    ##########################################################################\n",
        "    return num_elements\n",
        "\n",
        "num = count_tensor_elements(x)\n",
        "print('\\nNumber of elements in x: ', num)\n",
        "print('Correctly counted: ', num == 6)"
      ],
      "metadata": {
        "colab": {
          "base_uri": "https://localhost:8080/"
        },
        "id": "UTDQT1CCTY5I",
        "outputId": "89800440-744a-41cc-bdb7-35f035a6d9aa"
      },
      "execution_count": null,
      "outputs": [
        {
          "output_type": "stream",
          "name": "stdout",
          "text": [
            "\n",
            "Number of elements in x:  6\n",
            "Correctly counted:  True\n"
          ]
        }
      ]
    },
    {
      "cell_type": "markdown",
      "metadata": {
        "id": "Yz_VDA3IvP33"
      },
      "source": [
        "### Tensor constructors"
      ]
    },
    {
      "cell_type": "markdown",
      "metadata": {
        "id": "BoAlslEdwV-k"
      },
      "source": [
        "PyTorch provides many convenience methods for constructing tensors; this avoids the need to use Python lists, which can be inefficient when manipulating large amounts of data. Some of the most commonly used tensor constructors are:\n",
        "\n",
        "- [`torch.zeros`](https://pytorch.org/docs/stable/generated/torch.zeros.html): Creates a tensor of all zeros\n",
        "- [`torch.ones`](https://pytorch.org/docs/stable/generated/torch.ones.html): Creates a tensor of all ones\n",
        "- [`torch.rand`](https://pytorch.org/docs/stable/generated/torch.rand.html): Creates a tensor with uniform random numbers\n",
        "\n",
        "You can find a full list of tensor creation operations [in the documentation](https://pytorch.org/docs/stable/torch.html#creation-ops)."
      ]
    },
    {
      "cell_type": "code",
      "source": [
        "torch.zeros(2, 3)"
      ],
      "metadata": {
        "colab": {
          "base_uri": "https://localhost:8080/"
        },
        "id": "V48a2xcUV59U",
        "outputId": "d21b146b-75c1-4972-a669-cee9e4e80858"
      },
      "execution_count": null,
      "outputs": [
        {
          "output_type": "execute_result",
          "data": {
            "text/plain": [
              "tensor([[0., 0., 0.],\n",
              "        [0., 0., 0.]])"
            ]
          },
          "metadata": {},
          "execution_count": 39
        }
      ]
    },
    {
      "cell_type": "code",
      "source": [
        "torch.ones(1, 2)"
      ],
      "metadata": {
        "colab": {
          "base_uri": "https://localhost:8080/"
        },
        "id": "VIRz433IV72x",
        "outputId": "df0d2aef-e9ea-43b7-9195-e80183dd792c"
      },
      "execution_count": null,
      "outputs": [
        {
          "output_type": "execute_result",
          "data": {
            "text/plain": [
              "tensor([[1., 1.]])"
            ]
          },
          "metadata": {},
          "execution_count": 40
        }
      ]
    },
    {
      "cell_type": "code",
      "source": [
        "torch.eye(3)"
      ],
      "metadata": {
        "colab": {
          "base_uri": "https://localhost:8080/"
        },
        "id": "mKW7cD8oV9P3",
        "outputId": "4f9ef4c0-10a9-4fbe-c769-0ac35ef7f778"
      },
      "execution_count": null,
      "outputs": [
        {
          "output_type": "execute_result",
          "data": {
            "text/plain": [
              "tensor([[1., 0., 0.],\n",
              "        [0., 1., 0.],\n",
              "        [0., 0., 1.]])"
            ]
          },
          "metadata": {},
          "execution_count": 41
        }
      ]
    },
    {
      "cell_type": "code",
      "source": [
        "torch.rand(4, 5)"
      ],
      "metadata": {
        "colab": {
          "base_uri": "https://localhost:8080/"
        },
        "id": "2XC46JvcWApP",
        "outputId": "04f41686-c571-4679-fd8e-695cd6754bf6"
      },
      "execution_count": null,
      "outputs": [
        {
          "output_type": "execute_result",
          "data": {
            "text/plain": [
              "tensor([[0.2998, 0.0866, 0.5606, 0.4015, 0.6475],\n",
              "        [0.9516, 0.2237, 0.5258, 0.6642, 0.9001],\n",
              "        [0.7003, 0.1943, 0.4974, 0.8112, 0.2471],\n",
              "        [0.1080, 0.9443, 0.8702, 0.7067, 0.1593]])"
            ]
          },
          "metadata": {},
          "execution_count": 42
        }
      ]
    },
    {
      "cell_type": "code",
      "execution_count": null,
      "metadata": {
        "colab": {
          "base_uri": "https://localhost:8080/"
        },
        "id": "FL6DXGXzxHBA",
        "outputId": "ee003a9e-1df1-4137-db8c-0d2c9bc258b8"
      },
      "outputs": [
        {
          "output_type": "stream",
          "name": "stdout",
          "text": [
            "tensor of zeros:\n",
            "tensor([[0., 0., 0.],\n",
            "        [0., 0., 0.]])\n",
            "\n",
            "tensor of ones:\n",
            "tensor([[1., 1.]])\n",
            "\n",
            "identity matrix:\n",
            "tensor([[1., 0., 0.],\n",
            "        [0., 1., 0.],\n",
            "        [0., 0., 1.]])\n",
            "\n",
            "random tensor:\n",
            "tensor([[0.7142, 0.5485, 0.4211, 0.9414, 0.3625],\n",
            "        [0.4746, 0.3093, 0.5022, 0.4629, 0.9110],\n",
            "        [0.9898, 0.5857, 0.2230, 0.3487, 0.3568],\n",
            "        [0.7173, 0.3986, 0.9882, 0.5996, 0.0355]])\n"
          ]
        }
      ],
      "source": [
        "# Create a tensor of all zeros\n",
        "a = torch.zeros(2, 3)\n",
        "print('tensor of zeros:')\n",
        "print(a)\n",
        "\n",
        "# Create a tensor of all ones\n",
        "b = torch.ones(1, 2)\n",
        "print('\\ntensor of ones:')\n",
        "print(b)\n",
        "\n",
        "# Create a 3x3 identity matrix\n",
        "c = torch.eye(3)\n",
        "print('\\nidentity matrix:')\n",
        "print(c)\n",
        "\n",
        "# Tensor of random values\n",
        "d = torch.rand(4, 5)\n",
        "print('\\nrandom tensor:')\n",
        "print(d)"
      ]
    },
    {
      "cell_type": "markdown",
      "metadata": {
        "id": "Rz_hiJD33fu1"
      },
      "source": [
        "### Datatypes"
      ]
    },
    {
      "cell_type": "markdown",
      "metadata": {
        "id": "GG1xBunZ3ixx"
      },
      "source": [
        "In the examples above, you may have noticed that some of our tensors contained floating-point values, while others contained integer values.\n",
        "\n",
        "PyTorch provides a [large set of numeric datatypes](https://pytorch.org/docs/stable/tensor_attributes.html#torch.torch.dtype) that you can use to construct tensors. PyTorch tries to guess a datatype when you create a tensor; functions that construct tensors typically have a `dtype` argument that you can use to explicitly specify a datatype.\n",
        "\n",
        "Each tensor has a `dtype` attribute that you can use to check its data type:"
      ]
    },
    {
      "cell_type": "code",
      "source": [
        "x0 = torch.tensor([1., 2])\n",
        "x0.dtype"
      ],
      "metadata": {
        "colab": {
          "base_uri": "https://localhost:8080/"
        },
        "id": "P43uoLv_WKcK",
        "outputId": "5f62379a-860c-4831-8c82-56a18fc2fdd3"
      },
      "execution_count": null,
      "outputs": [
        {
          "output_type": "execute_result",
          "data": {
            "text/plain": [
              "torch.float32"
            ]
          },
          "metadata": {},
          "execution_count": 47
        }
      ]
    },
    {
      "cell_type": "code",
      "source": [
        "# Let torch choose the datatype\n",
        "x0 = torch.tensor([1, 2])   # List of integers\n",
        "x1 = torch.tensor([1., 2.]) # List of floats\n",
        "x2 = torch.tensor([1., 2])  # Mixed list\n",
        "print('dtype when torch chooses for us:')\n",
        "print('List of integers:', x0.dtype)\n",
        "print('List of floats:', x1.dtype)\n",
        "print('Mixed list:', x2.dtype)"
      ],
      "metadata": {
        "colab": {
          "base_uri": "https://localhost:8080/"
        },
        "id": "U1maq5DVvEn8",
        "outputId": "4837a56c-43d1-4a6e-8433-242983aaef52"
      },
      "execution_count": null,
      "outputs": [
        {
          "output_type": "stream",
          "name": "stdout",
          "text": [
            "dtype when torch chooses for us:\n",
            "List of integers: torch.int64\n",
            "List of floats: torch.float32\n",
            "Mixed list: torch.float32\n"
          ]
        }
      ]
    },
    {
      "cell_type": "code",
      "source": [
        "y0 = torch.tensor([1.5, 2], dtype=torch.int32)  # 32-bit float\n",
        "y0.dtype\n",
        "y0"
      ],
      "metadata": {
        "colab": {
          "base_uri": "https://localhost:8080/"
        },
        "id": "wkN0A4e6Wdor",
        "outputId": "5fe3d9af-6484-403b-8610-41cc52253127"
      },
      "execution_count": null,
      "outputs": [
        {
          "output_type": "execute_result",
          "data": {
            "text/plain": [
              "tensor([1, 2], dtype=torch.int32)"
            ]
          },
          "metadata": {},
          "execution_count": 50
        }
      ]
    },
    {
      "cell_type": "code",
      "source": [
        "# Force a particular datatype\n",
        "y0 = torch.tensor([1, 2], dtype=torch.float32)  # 32-bit float\n",
        "y1 = torch.tensor([1, 2], dtype=torch.int32)    # 32-bit (signed) integer\n",
        "y2 = torch.tensor([1, 2.1], dtype=torch.int64)    # 64-bit (signed) integer\n",
        "print('\\ndtype when we force a datatype:')\n",
        "print('32-bit float: ', y0.dtype)\n",
        "print('32-bit integer: ', y1.dtype)\n",
        "print('64-bit integer: ', y2.dtype)"
      ],
      "metadata": {
        "colab": {
          "base_uri": "https://localhost:8080/"
        },
        "id": "XPLP4VxpvMYd",
        "outputId": "3a301c01-11ce-4cf2-b478-067057e8bd4e"
      },
      "execution_count": null,
      "outputs": [
        {
          "output_type": "stream",
          "name": "stdout",
          "text": [
            "\n",
            "dtype when we force a datatype:\n",
            "32-bit float:  torch.float32\n",
            "32-bit integer:  torch.int32\n",
            "64-bit integer:  torch.int64\n"
          ]
        }
      ]
    },
    {
      "cell_type": "code",
      "execution_count": null,
      "metadata": {
        "colab": {
          "base_uri": "https://localhost:8080/"
        },
        "id": "vREVDf_n31Qz",
        "outputId": "bbcc6818-f13d-49bc-db0a-4b3c9c851522"
      },
      "outputs": [
        {
          "output_type": "stream",
          "name": "stdout",
          "text": [
            "\n",
            "torch.ones with different dtypes\n",
            "default dtype: torch.float32\n",
            "16-bit integer: torch.int16\n",
            "8-bit unsigned integer: torch.uint8\n"
          ]
        }
      ],
      "source": [
        "# Other creation ops also take a dtype argument\n",
        "z0 = torch.ones(1, 2)  # Let torch choose for us\n",
        "z1 = torch.ones(1, 2, dtype=torch.int16) # 16-bit (signed) integer\n",
        "z2 = torch.ones(1, 2, dtype=torch.uint8) # 8-bit (unsigned) integer\n",
        "print('\\ntorch.ones with different dtypes')\n",
        "print('default dtype:', z0.dtype)\n",
        "print('16-bit integer:', z1.dtype)\n",
        "print('8-bit unsigned integer:', z2.dtype)"
      ]
    },
    {
      "cell_type": "markdown",
      "metadata": {
        "id": "W2reBgQmx_x4"
      },
      "source": [
        "We can **cast** a tensor to another datatype using the [`.to()`](https://pytorch.org/docs/stable/generated/torch.Tensor.to.html) method; there are also convenience methods like [`.float()`](https://pytorch.org/docs/stable/generated/torch.Tensor.float.html) and [`.long()`](https://pytorch.org/docs/stable/generated/torch.Tensor.long.html) that cast to particular datatypes:\n"
      ]
    },
    {
      "cell_type": "code",
      "source": [
        "x0 = x0.int()\n",
        "x0.dtype\n",
        "x0 = x0.to(torch.float32)\n",
        "x0.dtype"
      ],
      "metadata": {
        "colab": {
          "base_uri": "https://localhost:8080/"
        },
        "id": "F3mhmFGVW0sG",
        "outputId": "b9390c32-032a-4b9d-91c1-e007ccc06868"
      },
      "execution_count": null,
      "outputs": [
        {
          "output_type": "execute_result",
          "data": {
            "text/plain": [
              "torch.float32"
            ]
          },
          "metadata": {},
          "execution_count": 60
        }
      ]
    },
    {
      "cell_type": "code",
      "execution_count": null,
      "metadata": {
        "id": "sAMpwGsdyHAw"
      },
      "outputs": [],
      "source": [
        "x0 = torch.eye(3, dtype=torch.int64)\n",
        "x1 = x0.float()  # Cast to 32-bit float\n",
        "x2 = x0.double() # Cast to 64-bit float\n",
        "x3 = x0.to(torch.float32) # Alternate way to cast to 32-bit float\n",
        "x4 = x0.to(torch.float64) # Alternate way to cast to 64-bit float\n",
        "print('x0:', x0.dtype)\n",
        "print('x1:', x1.dtype)\n",
        "print('x2:', x2.dtype)\n",
        "print('x3:', x3.dtype)\n",
        "print('x4:', x4.dtype)"
      ]
    },
    {
      "cell_type": "markdown",
      "metadata": {
        "id": "k2O8Atl1wMB7"
      },
      "source": [
        "PyTorch provides several ways to create a tensor with the same datatype as another tensor:\n",
        "\n",
        "- PyTorch provides tensor constructors such as [`torch.zeros_like()`](https://pytorch.org/docs/stable/generated/torch.zeros_like.html) that create new tensors with the same shape and type as a given tensor\n",
        "- Tensor objects have instance methods such as [`.new_zeros()`](https://pytorch.org/docs/stable/generated/torch.Tensor.new_zeros.html) that create tensors the same type but possibly different shapes\n",
        "- The tensor instance method [`.to()`](https://pytorch.org/docs/stable/generated/torch.Tensor.to.html) can take a tensor as an argument, in which case it casts to the datatype of the argument."
      ]
    },
    {
      "cell_type": "code",
      "source": [
        "x0 = torch.eye(3, dtype=torch.float64)  # Shape (3, 3), dtype torch.float64\n",
        "x0\n",
        "x1 = torch.zeros_like(x0)               # Shape (3, 3), dtype torch.float64\n",
        "x1"
      ],
      "metadata": {
        "colab": {
          "base_uri": "https://localhost:8080/"
        },
        "id": "devOOR4bXPWa",
        "outputId": "d8cd410e-5f88-4b13-e9f8-fa2e015c01ad"
      },
      "execution_count": null,
      "outputs": [
        {
          "output_type": "execute_result",
          "data": {
            "text/plain": [
              "tensor([[0., 0., 0.],\n",
              "        [0., 0., 0.],\n",
              "        [0., 0., 0.]], dtype=torch.float64)"
            ]
          },
          "metadata": {},
          "execution_count": 64
        }
      ]
    },
    {
      "cell_type": "code",
      "execution_count": null,
      "metadata": {
        "id": "1APDsx54xV6p"
      },
      "outputs": [],
      "source": [
        "x0 = torch.eye(3, dtype=torch.float64)  # Shape (3, 3), dtype torch.float64\n",
        "x1 = torch.zeros_like(x0)               # Shape (3, 3), dtype torch.float64\n",
        "x2 = x0.new_zeros(4, 5)                 # Shape (4, 5), dtype torch.float64\n",
        "x3 = torch.ones(6, 7).to(x0)            # Shape (6, 7), dtype torch.float64)\n",
        "print('x0 shape is %r, dtype is %r' % (x0.shape, x0.dtype))\n",
        "print('x1 shape is %r, dtype is %r' % (x1.shape, x1.dtype))\n",
        "print('x2 shape is %r, dtype is %r' % (x2.shape, x2.dtype))\n",
        "print('x3 shape is %r, dtype is %r' % (x3.shape, x3.dtype))"
      ]
    },
    {
      "cell_type": "markdown",
      "metadata": {
        "id": "RwJL3HVySvXn"
      },
      "source": [
        "Even though PyTorch provides a large number of numeric datatypes, the most commonly used datatypes are:\n",
        "\n",
        "- `torch.float32`: Standard floating-point type; used to store learnable parameters, network activations, etc. Nearly all arithmetic is done using this type.\n",
        "- `torch.int64`: Typically used to store indices\n",
        "- `torch.bool`: Stores boolean values: 0 is false and 1 is true\n",
        "- `torch.float16`: Used for mixed-precision arithmetic, usually on NVIDIA GPUs with [tensor cores](https://www.nvidia.com/en-us/data-center/tensorcore/). You won't need to worry about this datatype in this course."
      ]
    },
    {
      "cell_type": "markdown",
      "metadata": {
        "id": "rlANfnILvX3S"
      },
      "source": [
        "## Tensor indexing"
      ]
    },
    {
      "cell_type": "markdown",
      "metadata": {
        "id": "KP4dRrHhyLO5"
      },
      "source": [
        "We have already seen how to get and set individual elements of PyTorch tensors. PyTorch also provides many other ways of indexing into tensors. Getting comfortable with these different options makes it easy to modify different parts of tensors with ease."
      ]
    },
    {
      "cell_type": "markdown",
      "metadata": {
        "id": "mo-PoTWNvbba"
      },
      "source": [
        "### Slice indexing"
      ]
    },
    {
      "cell_type": "markdown",
      "metadata": {
        "id": "qUqTYvglyVLc"
      },
      "source": [
        "Similar to Python lists and numpy arrays, PyTorch tensors can be **sliced** using the syntax `start:stop` or `start:stop:step`. The `stop` index is always non-inclusive: it is the first element not to be included in the slice.\n",
        "\n",
        "Start and stop indices can be negative, in which case they count backward from the end of the tensor."
      ]
    },
    {
      "cell_type": "code",
      "source": [
        "a = torch.tensor([0, 11, 22, 33, 44, 55, 66])\n",
        "print(0, a)        # (0) Original tensor\n",
        "print(1, a[2:5])   # (1) Elements between index 2 and 5"
      ],
      "metadata": {
        "colab": {
          "base_uri": "https://localhost:8080/"
        },
        "id": "jGs5lDgyXoZI",
        "outputId": "1d5a2585-7e9e-463f-ae1a-46cb3ce17a57"
      },
      "execution_count": null,
      "outputs": [
        {
          "output_type": "stream",
          "name": "stdout",
          "text": [
            "0 tensor([ 0, 11, 22, 33, 44, 55, 66])\n",
            "1 tensor([22, 33, 44])\n"
          ]
        }
      ]
    },
    {
      "cell_type": "code",
      "execution_count": null,
      "metadata": {
        "id": "yEr5BzdUdCtZ"
      },
      "outputs": [],
      "source": [
        "a = torch.tensor([0, 11, 22, 33, 44, 55, 66])\n",
        "print(0, a)        # (0) Original tensor\n",
        "print(1, a[2:5])   # (1) Elements between index 2 and 5\n",
        "print(2, a[2:-2])    # (2) Elements after index 2\n",
        "print(3, a[:5])    # (3) Elements before index 5\n",
        "print(4, a[:])     # (4) All elements\n",
        "print(5, a[1:5:2]) # (5) Every second element between indices 1 and 5\n",
        "print(6, a[:-1])   # (6) All but the last element\n",
        "print(7, a[-4::2]) # (7) Every second element, starting from the fourth-last"
      ]
    },
    {
      "cell_type": "markdown",
      "metadata": {
        "id": "yrcr9PojgTS1"
      },
      "source": [
        "For multidimensional tensors, you can provide a slice or integer for each dimension of the tensor in order to extract different types of subtensors:"
      ]
    },
    {
      "cell_type": "markdown",
      "metadata": {
        "id": "gOsR8Pdertku"
      },
      "source": [
        "There are two common ways to access a single row or column of a tensor: using an integer will reduce the rank by one, and using a length-one slice will keep the same rank."
      ]
    },
    {
      "cell_type": "code",
      "source": [
        "a = torch.tensor([[1,2,3,4], [5,6,7,8], [9,10,11,12]])\n",
        "a[0], a[0:1,:], a[0].shape,  a[0:1,:].shape"
      ],
      "metadata": {
        "colab": {
          "base_uri": "https://localhost:8080/"
        },
        "id": "a1WWr-1kYMXz",
        "outputId": "42cb7533-5488-4b55-d633-148e2d397ac9"
      },
      "execution_count": null,
      "outputs": [
        {
          "output_type": "execute_result",
          "data": {
            "text/plain": [
              "(tensor([1, 2, 3, 4]),\n",
              " tensor([[1, 2, 3, 4]]),\n",
              " torch.Size([4]),\n",
              " torch.Size([1, 4]))"
            ]
          },
          "metadata": {},
          "execution_count": 80
        }
      ]
    },
    {
      "cell_type": "code",
      "execution_count": null,
      "metadata": {
        "id": "P1kHcc5jsF-c"
      },
      "outputs": [],
      "source": [
        "# Create the following rank 2 tensor with shape (3, 4)\n",
        "a = torch.tensor([[1,2,3,4], [5,6,7,8], [9,10,11,12]])\n",
        "print('Original tensor')\n",
        "print(a)\n",
        "\n",
        "row_r1 = a[1, :]    # Rank 1 view of the second row of a\n",
        "row_r2 = a[1:2, :]  # Rank 2 view of the second row of a\n",
        "print('\\nTwo ways of accessing a single row:')\n",
        "print(row_r1, row_r1.shape)\n",
        "print(row_r2, row_r2.shape)\n",
        "\n",
        "# We can make the same distinction when accessing columns:\n",
        "col_r1 = a[:, 1]\n",
        "col_r2 = a[:, 1:2]\n",
        "print('\\nTwo ways of accessing a single column:')\n",
        "print(col_r1, col_r1.shape)\n",
        "print(col_r2, col_r2.shape)"
      ]
    },
    {
      "cell_type": "markdown",
      "metadata": {
        "id": "Jk625fJfyxV8"
      },
      "source": [
        "Slicing a tensor returns a **view** into the same data, so modifying it will also modify the original tensor. To avoid this, you can use the `clone()` method to make a copy of a tensor."
      ]
    },
    {
      "cell_type": "code",
      "source": [
        "a = torch.tensor([[1, 2, 3, 4], [5, 6, 7, 8]])\n",
        "b = a[0, 1:]\n",
        "b[0] = 10\n",
        "b"
      ],
      "metadata": {
        "colab": {
          "base_uri": "https://localhost:8080/"
        },
        "id": "pfAThxYJYv-L",
        "outputId": "f818dc5c-3611-47d7-d7e9-234ce82b2ab7"
      },
      "execution_count": null,
      "outputs": [
        {
          "output_type": "execute_result",
          "data": {
            "text/plain": [
              "tensor([10,  3,  4])"
            ]
          },
          "metadata": {},
          "execution_count": 86
        }
      ]
    },
    {
      "cell_type": "code",
      "execution_count": null,
      "metadata": {
        "id": "IXbikYPwyxGA"
      },
      "outputs": [],
      "source": [
        "# Create a tensor, a slice, and a clone of a slice\n",
        "a = torch.tensor([[1, 2, 3, 4], [5, 6, 7, 8]])\n",
        "b = a[0, 1:]\n",
        "c = a[0, 1:].clone()\n",
        "print('Before mutating:')\n",
        "print(a)\n",
        "print(b)\n",
        "print(c)\n",
        "\n",
        "a[0, 1] = 20  # a[0, 1] and b[0] point to the same element\n",
        "b[1] = 30     # b[1] and a[0, 2] point to the same element\n",
        "c[2] = 40     # c is a clone, so it has its own data\n",
        "print('\\nAfter mutating:')\n",
        "print(a)\n",
        "print(b)\n",
        "print(c)\n",
        "\n",
        "print(a.storage().data_ptr() == c.storage().data_ptr())"
      ]
    },
    {
      "cell_type": "markdown",
      "metadata": {
        "id": "RNjhLwb0xY2A"
      },
      "source": [
        "So far we have used slicing to **access** subtensors; we can also use slicing to **modify** subtensors by writing assignment expressions where the left-hand side is a slice expression, and the right-hand side is a constant or a tensor of the correct shape:"
      ]
    },
    {
      "cell_type": "code",
      "execution_count": null,
      "metadata": {
        "id": "DFnky42Rx2I5"
      },
      "outputs": [],
      "source": [
        "a = torch.zeros(2, 4, dtype=torch.int64)\n",
        "a[:, :2] = 1\n",
        "a[:, 2:] = torch.tensor([[2, 3], [4, 5]])\n",
        "print(a)"
      ]
    },
    {
      "cell_type": "markdown",
      "metadata": {
        "id": "4y93rPhGveWw"
      },
      "source": [
        "### Integer tensor indexing"
      ]
    },
    {
      "cell_type": "markdown",
      "metadata": {
        "id": "GlTyhjEN0AIE"
      },
      "source": [
        "When you index into torch tensor using slicing, the resulting tensor view will always be a subarray of the original tensor. This is powerful, but can be restrictive.\n",
        "\n",
        "We can also use **index arrays** to index tensors; this lets us construct new tensors with a lot more flexibility than using slices.\n",
        "\n",
        "As an example, we can use index arrays to reorder the rows or columns of a tensor:"
      ]
    },
    {
      "cell_type": "code",
      "source": [
        "a = torch.tensor([[1, 2, 3, 4], [5, 6, 7, 8], [9, 10, 11, 12]])\n",
        "a"
      ],
      "metadata": {
        "colab": {
          "base_uri": "https://localhost:8080/"
        },
        "id": "2IODtXEJZNxt",
        "outputId": "90ec8eb4-432e-436f-8ba9-86a5117e66ff"
      },
      "execution_count": null,
      "outputs": [
        {
          "output_type": "execute_result",
          "data": {
            "text/plain": [
              "tensor([[ 1,  2,  3,  4],\n",
              "        [ 5,  6,  7,  8],\n",
              "        [ 9, 10, 11, 12]])"
            ]
          },
          "metadata": {},
          "execution_count": 89
        }
      ]
    },
    {
      "cell_type": "code",
      "source": [
        "idx = [0, 0, 2, 1, 1]  # index arrays can be Python lists of integers\n",
        "a[idx,:]"
      ],
      "metadata": {
        "colab": {
          "base_uri": "https://localhost:8080/"
        },
        "id": "GoOHr4FJZQDk",
        "outputId": "71b32465-f948-40f0-df7c-e12853aee060"
      },
      "execution_count": null,
      "outputs": [
        {
          "output_type": "execute_result",
          "data": {
            "text/plain": [
              "tensor([[ 1,  2,  3,  4],\n",
              "        [ 1,  2,  3,  4],\n",
              "        [ 9, 10, 11, 12],\n",
              "        [ 5,  6,  7,  8],\n",
              "        [ 5,  6,  7,  8]])"
            ]
          },
          "metadata": {},
          "execution_count": 91
        }
      ]
    },
    {
      "cell_type": "code",
      "execution_count": null,
      "metadata": {
        "id": "IXePPNkjM_SD"
      },
      "outputs": [],
      "source": [
        "# Create the following rank 2 tensor with shape (3, 4)\n",
        "# [[ 1  2  3  4]\n",
        "#  [ 5  6  7  8]\n",
        "#  [ 9 10 11 12]]\n",
        "a = torch.tensor([[1, 2, 3, 4], [5, 6, 7, 8], [9, 10, 11, 12]])\n",
        "print('Original tensor:')\n",
        "print(a)\n",
        "\n",
        "# Create a new tensor of shape (5, 4) by reordering rows from a:\n",
        "# - First two rows same as the first row of a\n",
        "# - Third row is the same as the last row of a\n",
        "# - Fourth and fifth rows are the same as the second row from a\n",
        "idx = [0, 0, 2, 1, 1]  # index arrays can be Python lists of integers\n",
        "print('\\nReordered rows:')\n",
        "print(a[idx])\n",
        "\n",
        "# Create a new tensor of shape (3, 4) by reversing the columns from a\n",
        "idx = torch.tensor([3, 2, 1, 0])  # Index arrays can be int64 torch tensors\n",
        "print('\\nReordered columns:')\n",
        "print(a[:, idx])"
      ]
    },
    {
      "cell_type": "markdown",
      "metadata": {
        "id": "CpIBR1bCQji6"
      },
      "source": [
        "More generally, given index arrays `idx0` and `idx1` with `N` elements each, `a[idx0, idx1]` is equivalent to:\n",
        "\n",
        "```\n",
        "torch.tensor([\n",
        "  a[idx0[0], idx1[0]],\n",
        "  a[idx0[1], idx1[1]],\n",
        "  ...,\n",
        "  a[idx0[N - 1], idx1[N - 1]]\n",
        "])\n",
        "```\n",
        "\n",
        "(A similar pattern extends to tensors with more than two dimensions)\n",
        "\n",
        "We can for example use this to get or set the diagonal of a tensor:"
      ]
    },
    {
      "cell_type": "code",
      "execution_count": null,
      "metadata": {
        "id": "ocIR8R5ZSEaP"
      },
      "outputs": [],
      "source": [
        "a = torch.tensor([[1, 2, 3], [4, 5, 6], [7, 8, 9]])\n",
        "print('Original tensor:')\n",
        "print(a)\n",
        "\n",
        "idx = [0, 1, 2]\n",
        "print('\\nGet the diagonal:')\n",
        "print(a[idx, idx])\n",
        "\n",
        "# Modify the diagonal\n",
        "a[idx, idx] = torch.tensor([11, 22, 33])\n",
        "print('\\nAfter setting the diagonal:')\n",
        "print(a)"
      ]
    },
    {
      "cell_type": "markdown",
      "metadata": {
        "id": "Q68ZApgH31W9"
      },
      "source": [
        "Now implement the function `make_one_hot` that creates a matrix of **one-hot vectors** from a list of Python integers.\n",
        "\n",
        "A one-hot vector for an integer $n$ is a vector that has a one in its $n$th slot, and zeros in all other slots. One-hot vectors are commonly used to represent categorical variables in machine learning models.\n",
        "\n",
        "For example, given a list `[1, 4, 3, 2]` of integers, your function should produce the tensor:\n",
        "\n",
        "```\n",
        "[[0 1 0 0 0],\n",
        " [0 0 0 0 1],\n",
        " [0 0 0 1 0],\n",
        " [0 0 1 0 0]]\n",
        "```\n",
        "\n",
        "Here the first row corresponds to the first element of the list: it has a one at index 1, and zeros at all other indices. The second row corresponds to the second element of the list: it has a one at index 4, and zeros at all other indices. The other rows follow the same pattern. The output has just enough columns so that none of the rows go out-of-bounds: the largest index in the input is 4, so the output matrix has 5 columns."
      ]
    },
    {
      "cell_type": "markdown",
      "source": [
        "### 과제 2: make_one_hot"
      ],
      "metadata": {
        "id": "ItigSvcm_fU-"
      }
    },
    {
      "cell_type": "code",
      "source": [
        "x = [1, 4, 3, 2]\n",
        "max(x), len(x), range(4)\n",
        "for ind, x_v in enumerate(x):\n",
        "  print(ind, x_v)"
      ],
      "metadata": {
        "colab": {
          "base_uri": "https://localhost:8080/"
        },
        "id": "BrYPRBUAhYUl",
        "outputId": "1830f527-b965-47e2-ca47-1e254f3493d6"
      },
      "execution_count": null,
      "outputs": [
        {
          "output_type": "stream",
          "name": "stdout",
          "text": [
            "0 1\n",
            "1 4\n",
            "2 3\n",
            "3 2\n"
          ]
        }
      ]
    },
    {
      "cell_type": "code",
      "execution_count": null,
      "metadata": {
        "id": "jaT1kuQ37Rsq",
        "colab": {
          "base_uri": "https://localhost:8080/"
        },
        "outputId": "e19a32b5-e998-48ec-8373-cbb6a9d431ae"
      },
      "outputs": [
        {
          "output_type": "stream",
          "name": "stdout",
          "text": [
            "Here is y0:\n",
            "tensor([[0., 1., 0., 0., 0.],\n",
            "        [0., 0., 0., 0., 1.],\n",
            "        [0., 0., 0., 1., 0.],\n",
            "        [0., 0., 1., 0., 0.]])\n",
            "y0 correct:  True\n",
            "\n",
            "Here is y1:\n",
            "tensor([[0., 1., 0., 0., 0., 0., 0., 0.],\n",
            "        [0., 0., 0., 1., 0., 0., 0., 0.],\n",
            "        [0., 0., 0., 0., 0., 1., 0., 0.],\n",
            "        [0., 0., 0., 0., 0., 0., 0., 1.],\n",
            "        [0., 0., 0., 0., 0., 0., 1., 0.],\n",
            "        [0., 0., 1., 0., 0., 0., 0., 0.]])\n",
            "y1 correct:  True\n"
          ]
        }
      ],
      "source": [
        "def make_one_hot(x: List[int]) -> Tensor:\n",
        "    ##########################################################################\n",
        "    y = torch.zeros(len(x),max(x)+1)\n",
        "    for row, col in enumerate(x):\n",
        "      y[row,col] = 1\n",
        "    ##########################################################################\n",
        "    #                            END OF YOUR CODE                            #\n",
        "    ##########################################################################\n",
        "    return y\n",
        "\n",
        "def check_one_hot(x, y):\n",
        "    C = y.shape[1]\n",
        "    for i, n in enumerate(x):\n",
        "        if n >= C: return False\n",
        "        for j in range(C):\n",
        "            expected = 1.0 if j == n else 0.0\n",
        "            if y[i, j].item() != expected: return False\n",
        "        return True\n",
        "\n",
        "x0 = [1, 4, 3, 2]\n",
        "y0 = make_one_hot(x0)\n",
        "print('Here is y0:')\n",
        "print(y0)\n",
        "print('y0 correct: ', check_one_hot(x0, y0))\n",
        "\n",
        "x1 = [1, 3, 5, 7, 6, 2]\n",
        "y1 = make_one_hot(x1)\n",
        "print('\\nHere is y1:')\n",
        "print(y1)\n",
        "print('y1 correct: ', check_one_hot(x1, y1))"
      ]
    },
    {
      "cell_type": "markdown",
      "metadata": {
        "id": "oGt8ZPb_vixw"
      },
      "source": [
        "### Boolean tensor indexing"
      ]
    },
    {
      "cell_type": "markdown",
      "metadata": {
        "id": "6CkQaRj01xmU"
      },
      "source": [
        "Boolean tensor indexing lets you pick out arbitrary elements of a tensor according to a boolean mask. Frequently this type of indexing is used to select or modify the elements of a tensor that satisfy some condition.\n",
        "\n",
        "In PyTorch, we use tensors of dtype `torch.bool` to hold boolean masks.\n",
        "\n",
        "(Prior to version 1.2.0, there was no `torch.bool` type so instead `torch.uint8` was usually used to represent boolean data, with 0 indicating false and 1 indicating true. Watch out for this in older PyTorch code!)"
      ]
    },
    {
      "cell_type": "code",
      "source": [
        "a = torch.tensor([[1,2], [3, 4], [5, 6]])\n",
        "a[a>3]"
      ],
      "metadata": {
        "colab": {
          "base_uri": "https://localhost:8080/"
        },
        "id": "Usjg-UfweByc",
        "outputId": "353b5849-2e93-4be0-f651-072059d59c0c"
      },
      "execution_count": null,
      "outputs": [
        {
          "output_type": "execute_result",
          "data": {
            "text/plain": [
              "tensor([4, 5, 6])"
            ]
          },
          "metadata": {},
          "execution_count": 103
        }
      ]
    },
    {
      "cell_type": "code",
      "execution_count": null,
      "metadata": {
        "id": "29Zf7rb82Dkd"
      },
      "outputs": [],
      "source": [
        "a = torch.tensor([[1,2], [3, 4], [5, 6]])\n",
        "print('Original tensor:')\n",
        "print(a)\n",
        "\n",
        "# Find the elements of a that are bigger than 3. The mask has the same shape as\n",
        "# a, where each element of mask tells whether the corresponding element of a\n",
        "# is greater than three.\n",
        "mask = (a > 3)\n",
        "print('\\nMask tensor:')\n",
        "print(mask)\n",
        "\n",
        "# We can use the mask to construct a rank-1 tensor containing the elements of a\n",
        "# that are selected by the mask\n",
        "print('\\nSelecting elements with the mask:')\n",
        "print(a[mask])\n",
        "\n",
        "# We can also use boolean masks to modify tensors; for example this sets all\n",
        "# elements <= 3 to zero:\n",
        "a[a <= 3] = 0\n",
        "print('\\nAfter modifying with a mask:')\n",
        "print(a)"
      ]
    },
    {
      "cell_type": "code",
      "source": [
        "a"
      ],
      "metadata": {
        "colab": {
          "base_uri": "https://localhost:8080/"
        },
        "id": "XrpF17Biedcm",
        "outputId": "bdd5c69f-b5a7-4e2b-c97c-0f506436971a"
      },
      "execution_count": null,
      "outputs": [
        {
          "output_type": "execute_result",
          "data": {
            "text/plain": [
              "tensor([[1, 2],\n",
              "        [3, 4],\n",
              "        [5, 6]])"
            ]
          },
          "metadata": {},
          "execution_count": 108
        }
      ]
    },
    {
      "cell_type": "code",
      "source": [
        "a[[True, False, True],:]"
      ],
      "metadata": {
        "colab": {
          "base_uri": "https://localhost:8080/"
        },
        "id": "mgrTthDgepGg",
        "outputId": "f766362c-88af-4b8f-9c8f-23d1e6d842d7"
      },
      "execution_count": null,
      "outputs": [
        {
          "output_type": "execute_result",
          "data": {
            "text/plain": [
              "tensor([[1, 2],\n",
              "        [5, 6]])"
            ]
          },
          "metadata": {},
          "execution_count": 109
        }
      ]
    },
    {
      "cell_type": "markdown",
      "metadata": {
        "id": "LtSmmMGodrTX"
      },
      "source": [
        "**Your turn**: Implement the function `sum_positive_entries` which computes the sum of all positive entries in a torch tensor. You can easily accomplish this using boolean tensor indexing. Your implementation should perform only a single indexing operation on the input tensor."
      ]
    },
    {
      "cell_type": "code",
      "execution_count": null,
      "metadata": {
        "id": "2hkeYXN9d5xh",
        "colab": {
          "base_uri": "https://localhost:8080/"
        },
        "outputId": "b758b6b0-aaf5-4e45-e552-88e438b51d0f"
      },
      "outputs": [
        {
          "output_type": "stream",
          "name": "stdout",
          "text": [
            "Correct for x0:  tensor(True)\n",
            "Correct for x1:  tensor(True)\n",
            "Correct for x2:  tensor(True)\n"
          ]
        }
      ],
      "source": [
        "def sum_positive_entries(x: Tensor) -> Tensor:\n",
        "    \"\"\"\n",
        "    Return the sum of all the positive values in the input tensor x.\n",
        "\n",
        "    For example, given the input tensor\n",
        "\n",
        "    x = [[ -1   2   0 ],\n",
        "         [  0   5  -3 ],\n",
        "         [  8  -9   0 ]]\n",
        "\n",
        "    This function should return sum_positive_entries(x) = 2 + 5 + 8 = 15\n",
        "\n",
        "    Your output should be a Python integer, *not* a PyTorch scalar.\n",
        "\n",
        "    Your implementation should not modify the input tensor, and should not use\n",
        "    any explicit Python loops (including comprehensions). You should access\n",
        "    the data of the input tensor using only a single comparison operation and a\n",
        "    single indexing operation.\n",
        "\n",
        "    Args:\n",
        "        x: A tensor of any shape with dtype torch.int64\n",
        "\n",
        "    Returns:\n",
        "        pos_sum: Python integer giving the sum of all positive values in x\n",
        "    \"\"\"\n",
        "    pos_sum = None\n",
        "    ##########################################################################\n",
        "    #                      TODO: Implement this function                     #\n",
        "    ##########################################################################\n",
        "    # Replace \"pass\" statement with your code\n",
        "    pos_sum= sum(x[x>0])\n",
        "    ##########################################################################\n",
        "    #                            END OF YOUR CODE                            #\n",
        "    ##########################################################################\n",
        "    return pos_sum\n",
        "\n",
        "# Make a few test cases\n",
        "torch.manual_seed(598)\n",
        "x0 = torch.tensor([[-1, -1, 0], [0, 1, 2], [3, 4, 5]])\n",
        "x1 = torch.tensor([-100, 0, 1, 2, 3])\n",
        "x2 = torch.randn(100, 100).long()\n",
        "print('Correct for x0: ', sum_positive_entries(x0) == 15)\n",
        "print('Correct for x1: ', sum_positive_entries(x1) == 6)\n",
        "print('Correct for x2: ', sum_positive_entries(x2) == 1871)"
      ]
    },
    {
      "cell_type": "markdown",
      "metadata": {
        "id": "Ad-xqELwyqpN"
      },
      "source": [
        "## Reshaping operations"
      ]
    },
    {
      "cell_type": "markdown",
      "metadata": {
        "id": "Ql9_eXuU4OG8"
      },
      "source": [
        "### View"
      ]
    },
    {
      "cell_type": "markdown",
      "metadata": {
        "id": "xfPb_2BY0HKw"
      },
      "source": [
        "PyTorch provides many ways to manipulate the shapes of tensors. The simplest example is [`.view()`](https://pytorch.org/docs/stable/generated/torch.Tensor.view.html): This returns a new tensor with the same number of elements as its input, but with a different shape.\n",
        "\n",
        "We can use `.view()` to flatten matrices into vectors, and to convert rank-1 vectors into rank-2 row or column matrices:"
      ]
    },
    {
      "cell_type": "code",
      "source": [
        "x0 = torch.tensor([[1, 2, 3, 4], [5, 6, 7, 8]])\n",
        "x0 = x0.view(2,2,2)\n",
        "x0"
      ],
      "metadata": {
        "colab": {
          "base_uri": "https://localhost:8080/"
        },
        "id": "esf8cFSTfiRB",
        "outputId": "b4d55921-7c6d-4466-a08a-d44751549c69"
      },
      "execution_count": null,
      "outputs": [
        {
          "output_type": "execute_result",
          "data": {
            "text/plain": [
              "tensor([[[1, 2],\n",
              "         [3, 4]],\n",
              "\n",
              "        [[5, 6],\n",
              "         [7, 8]]])"
            ]
          },
          "metadata": {},
          "execution_count": 120
        }
      ]
    },
    {
      "cell_type": "code",
      "execution_count": null,
      "metadata": {
        "id": "kw-M7C_61FZK"
      },
      "outputs": [],
      "source": [
        "x0 = torch.tensor([[1, 2, 3, 4], [5, 6, 7, 8]])\n",
        "print('Original tensor:')\n",
        "print(x0)\n",
        "print('shape:', x0.shape)\n",
        "\n",
        "# Flatten x0 into a rank 1 vector of shape (8,)\n",
        "x1 = x0.view(8)\n",
        "print('\\nFlattened tensor:')\n",
        "print(x1)\n",
        "print('shape:', x1.shape)\n",
        "\n",
        "# Convert x1 to a rank 2 \"row vector\" of shape (1, 8)\n",
        "x2 = x1.view(1, 8)\n",
        "print('\\nRow vector:')\n",
        "print(x2)\n",
        "print('shape:', x2.shape)\n",
        "\n",
        "# Convert x1 to a rank 2 \"column vector\" of shape (8, 1)\n",
        "x3 = x1.view(8, 1)\n",
        "print('\\nColumn vector:')\n",
        "print(x3)\n",
        "print('shape:', x3.shape)\n",
        "\n",
        "# Convert x1 to a rank 3 tensor of shape (2, 2, 2):\n",
        "x4 = x1.view(2, 2, 2)\n",
        "print('\\nRank 3 tensor:')\n",
        "print(x4)\n",
        "print('shape:', x4.shape)"
      ]
    },
    {
      "cell_type": "markdown",
      "metadata": {
        "id": "eHsZ8BPF2PEq"
      },
      "source": [
        "As a convenience, calls to `.view()` may include a single -1 argument; this puts enough elements on that dimension so that the output has the same number of elements as the input. This makes it easy to write some reshape operations in a way that is agnostic to the shape of the tensor:"
      ]
    },
    {
      "cell_type": "code",
      "source": [
        "x0.view(-1)"
      ],
      "metadata": {
        "colab": {
          "base_uri": "https://localhost:8080/"
        },
        "id": "wnb6PHMMgHNd",
        "outputId": "83554f20-20c2-4d33-fec2-468e378706d3"
      },
      "execution_count": null,
      "outputs": [
        {
          "output_type": "execute_result",
          "data": {
            "text/plain": [
              "tensor([1, 2, 3, 4, 5, 6, 7, 8])"
            ]
          },
          "metadata": {},
          "execution_count": 122
        }
      ]
    },
    {
      "cell_type": "code",
      "source": [
        "x0.view(4,-1)"
      ],
      "metadata": {
        "colab": {
          "base_uri": "https://localhost:8080/"
        },
        "id": "edMIzh3PgP2j",
        "outputId": "1f57c2dc-b8e7-4b02-b920-d78124322ecc"
      },
      "execution_count": null,
      "outputs": [
        {
          "output_type": "execute_result",
          "data": {
            "text/plain": [
              "tensor([[1, 2],\n",
              "        [3, 4],\n",
              "        [5, 6],\n",
              "        [7, 8]])"
            ]
          },
          "metadata": {},
          "execution_count": 124
        }
      ]
    },
    {
      "cell_type": "code",
      "execution_count": null,
      "metadata": {
        "id": "qNWu-R_J2qFY"
      },
      "outputs": [],
      "source": [
        "# We can reuse these functions for tensors of different shapes\n",
        "def flatten(x):\n",
        "    return x.view(-1)\n",
        "\n",
        "def make_row_vec(x):\n",
        "    return x.view(1, -1)\n",
        "\n",
        "x0 = torch.tensor([[1, 2, 3], [4, 5, 6]])\n",
        "x0_flat = flatten(x0)\n",
        "x0_row = make_row_vec(x0)\n",
        "print('x0:')\n",
        "print(x0)\n",
        "print('x0_flat:')\n",
        "print(x0_flat)\n",
        "print('x0_row:')\n",
        "print(x0_row)\n",
        "\n",
        "x1 = torch.tensor([[1, 2], [3, 4]])\n",
        "x1_flat = flatten(x1)\n",
        "x1_row = make_row_vec(x1)\n",
        "print('\\nx1:')\n",
        "print(x1)\n",
        "print('x1_flat:')\n",
        "print(x1_flat)\n",
        "print('x1_row:')\n",
        "print(x1_row)"
      ]
    },
    {
      "cell_type": "markdown",
      "metadata": {
        "id": "DK-ZB5aB2NPq"
      },
      "source": [
        "As its name implies, a tensor returned by `.view()` shares the same data as the input, so changes to one will affect the other and vice-versa:"
      ]
    },
    {
      "cell_type": "code",
      "execution_count": null,
      "metadata": {
        "id": "ebT99rUo2McN"
      },
      "outputs": [],
      "source": [
        "x = torch.tensor([[1, 2, 3], [4, 5, 6]])\n",
        "x_flat = x.view(-1)\n",
        "print('x before modifying:')\n",
        "print(x)\n",
        "print('x_flat before modifying:')\n",
        "print(x_flat)\n",
        "\n",
        "x[0, 0] = 10   # x[0, 0] and x_flat[0] point to the same data\n",
        "x_flat[1] = 20 # x_flat[1] and x[0, 1] point to the same data\n",
        "\n",
        "print('\\nx after modifying:')\n",
        "print(x)\n",
        "print('x_flat after modifying:')\n",
        "print(x_flat)"
      ]
    },
    {
      "cell_type": "markdown",
      "metadata": {
        "id": "Z150qBob4Wkz"
      },
      "source": [
        "### Swapping axes"
      ]
    },
    {
      "cell_type": "markdown",
      "metadata": {
        "id": "TCMDxbyBys78"
      },
      "source": [
        "Another common reshape operation you might want to perform is transposing a matrix. You might be surprised if you try to transpose a matrix with `.view()`: The `view()` function takes elements in row-major order, so **you cannot transpose matrices with `.view()`**.\n",
        "\n",
        "In general, you should only use `.view()` to add new dimensions to a tensor, or to collapse adjacent dimensions of a tensor.\n",
        "\n",
        "For other types of reshape operations, you usually need to use a function that can swap axes of a tensor. The simplest such function is `.t()`, specificially for transposing matrices. It is available both as a [function in the `torch` module](https://pytorch.org/docs/stable/generated/torch.t.html#torch.t), and as a [tensor instance method](https://pytorch.org/docs/stable/generated/torch.Tensor.t.html):"
      ]
    },
    {
      "cell_type": "code",
      "source": [
        "x = torch.tensor([[[1], [2], [3]], [[4], [5], [6]]])\n",
        "# x.permute((1,0))\n",
        "x.shape, x.permute((2,0,1)).shape"
      ],
      "metadata": {
        "colab": {
          "base_uri": "https://localhost:8080/"
        },
        "id": "aHRdE05_ghir",
        "outputId": "fbb17d2c-08c0-4897-a34b-aaadac2927e2"
      },
      "execution_count": null,
      "outputs": [
        {
          "output_type": "execute_result",
          "data": {
            "text/plain": [
              "(torch.Size([2, 3, 1]), torch.Size([1, 2, 3]))"
            ]
          },
          "metadata": {},
          "execution_count": 54
        }
      ]
    },
    {
      "cell_type": "code",
      "execution_count": null,
      "metadata": {
        "id": "o_B4NuX6zQm-",
        "colab": {
          "base_uri": "https://localhost:8080/"
        },
        "outputId": "4db0940a-ade9-4edf-c24e-6182c0eb0de3"
      },
      "outputs": [
        {
          "output_type": "stream",
          "name": "stdout",
          "text": [
            "Original matrix:\n",
            "tensor([[1, 2, 3],\n",
            "        [4, 5, 6]])\n",
            "\n",
            "Transposing with view DOES NOT WORK!\n",
            "tensor([[1, 2],\n",
            "        [3, 4],\n",
            "        [5, 6]])\n",
            "\n",
            "Transposed matrix:\n",
            "tensor([[1, 4],\n",
            "        [2, 5],\n",
            "        [3, 6]])\n",
            "tensor([[1, 4],\n",
            "        [2, 5],\n",
            "        [3, 6]])\n"
          ]
        }
      ],
      "source": [
        "x = torch.tensor([[1, 2, 3], [4, 5, 6]])\n",
        "print('Original matrix:')\n",
        "print(x)\n",
        "print('\\nTransposing with view DOES NOT WORK!')\n",
        "print(x.view(3, 2))\n",
        "print('\\nTransposed matrix:')\n",
        "print(torch.t(x))\n",
        "print(x.t())"
      ]
    },
    {
      "cell_type": "markdown",
      "metadata": {
        "id": "RN93xo98zn0v"
      },
      "source": [
        "For tensors with more than two dimensions, we can use the function [`torch.transpose`](https://pytorch.org/docs/stable/generated/torch.transpose.html) (or its [instance method variant](https://pytorch.org/docs/stable/generated/torch.Tensor.transpose.html)) to swap arbitrary dimensions.\n",
        "\n",
        "If you want to swap multiple axes at the same time, you can use [`torch.permute`](https://pytorch.org/docs/stable/generated/torch.permute.html) (or its [instance method variant](https://pytorch.org/docs/stable/generated/torch.Tensor.permute.html)) method to arbitrarily permute dimensions:"
      ]
    },
    {
      "cell_type": "code",
      "source": [
        "# Create a tensor of shape (2, 3, 4)\n",
        "x0 = torch.tensor([\n",
        "     [[1,  2,  3,  4],\n",
        "      [5,  6,  7,  8],\n",
        "      [9, 10, 11, 12]],\n",
        "     [[13, 14, 15, 16],\n",
        "      [17, 18, 19, 20],\n",
        "      [21, 22, 23, 24]]])\n",
        "x0.transpose(1,2).shape"
      ],
      "metadata": {
        "colab": {
          "base_uri": "https://localhost:8080/"
        },
        "id": "ppEoxkqogpRe",
        "outputId": "9c06b5db-c144-40d5-ea35-4b30da20c930"
      },
      "execution_count": null,
      "outputs": [
        {
          "output_type": "execute_result",
          "data": {
            "text/plain": [
              "torch.Size([2, 4, 3])"
            ]
          },
          "metadata": {},
          "execution_count": 129
        }
      ]
    },
    {
      "cell_type": "code",
      "source": [
        "x0.permute(1,2,0).shape"
      ],
      "metadata": {
        "colab": {
          "base_uri": "https://localhost:8080/"
        },
        "id": "1qlls1gfg5JE",
        "outputId": "b5b31698-179d-4dbc-f183-31a18d530b6f"
      },
      "execution_count": null,
      "outputs": [
        {
          "output_type": "execute_result",
          "data": {
            "text/plain": [
              "torch.Size([3, 4, 2])"
            ]
          },
          "metadata": {},
          "execution_count": 130
        }
      ]
    },
    {
      "cell_type": "code",
      "execution_count": null,
      "metadata": {
        "id": "XgN7YB8YzzkA"
      },
      "outputs": [],
      "source": [
        "# Create a tensor of shape (2, 3, 4)\n",
        "x0 = torch.tensor([\n",
        "     [[1,  2,  3,  4],\n",
        "      [5,  6,  7,  8],\n",
        "      [9, 10, 11, 12]],\n",
        "     [[13, 14, 15, 16],\n",
        "      [17, 18, 19, 20],\n",
        "      [21, 22, 23, 24]]])\n",
        "print('Original tensor:')\n",
        "print(x0)\n",
        "print('shape:', x0.shape)\n",
        "\n",
        "# Swap axes 1 and 2; shape is (2, 4, 3)\n",
        "x1 = x0.transpose(1, 2)\n",
        "print('\\nSwap axes 1 and 2:')\n",
        "print(x1)\n",
        "print(x1.shape)\n",
        "\n",
        "# Permute axes; the argument (1, 2, 0) means:\n",
        "# - Make the old dimension 1 appear at dimension 0;\n",
        "# - Make the old dimension 2 appear at dimension 1;\n",
        "# - Make the old dimension 0 appear at dimension 2\n",
        "# This results in a tensor of shape (3, 4, 2)\n",
        "x2 = x0.permute(1, 2, 0)\n",
        "print('\\nPermute axes')\n",
        "print(x2)\n",
        "print('shape:', x2.shape)"
      ]
    },
    {
      "cell_type": "markdown",
      "metadata": {
        "id": "f4SJCVbf-bZ0"
      },
      "source": [
        "### Contiguous tensors"
      ]
    },
    {
      "cell_type": "markdown",
      "metadata": {
        "id": "ubOOujO_-pQT"
      },
      "source": [
        "Some combinations of reshaping operations will fail with cryptic errors. The exact reasons for this have to do with the way that tensors and views of tensors are implemented, and are beyond the scope of this assignment. However if you're curious, [this blog post by Edward Yang](http://blog.ezyang.com/2019/05/pytorch-internals/) gives a clear explanation of the problem.\n",
        "\n",
        "What you need to know is that you can typically overcome these sorts of errors by either by calling [`.contiguous()`](https://pytorch.org/docs/stable/generated/torch.Tensor.contiguous.html) before `.view()`, or by using [`.reshape()`](https://pytorch.org/docs/stable/generated/torch.reshape.html) instead of `.view()`."
      ]
    },
    {
      "cell_type": "code",
      "source": [
        "import torch\n",
        "x0 = torch.randn(2, 3, 4)\n",
        "x0"
      ],
      "metadata": {
        "colab": {
          "base_uri": "https://localhost:8080/"
        },
        "id": "i7R3tq-p9Zem",
        "outputId": "a1333b8e-2292-4c52-9a3a-28bfe7de9350"
      },
      "execution_count": null,
      "outputs": [
        {
          "output_type": "execute_result",
          "data": {
            "text/plain": [
              "tensor([[[-0.1681, -1.3312, -0.4698, -0.0505],\n",
              "         [ 1.1994, -0.9749, -0.7541, -1.2836],\n",
              "         [-1.4004,  0.7637, -0.7692, -0.4599]],\n",
              "\n",
              "        [[ 1.0308, -0.0149,  0.3535, -0.8521],\n",
              "         [-0.2318, -1.0434,  1.9182, -0.7249],\n",
              "         [-0.3234,  1.2791,  1.0473, -1.2099]]])"
            ]
          },
          "metadata": {},
          "execution_count": 2
        }
      ]
    },
    {
      "cell_type": "code",
      "execution_count": null,
      "metadata": {
        "id": "YGC6NERq_CT9"
      },
      "outputs": [],
      "source": [
        "x0 = torch.randn(2, 3, 4)\n",
        "\n",
        "try:\n",
        "  # This sequence of reshape operations will crash\n",
        "  x1 = x0.transpose(1, 2).view(8, 3)\n",
        "except RuntimeError as e:\n",
        "  print(type(e), e)\n",
        "\n",
        "# We can solve the problem using either .contiguous() or .reshape()\n",
        "x1 = x0.transpose(1, 2).contiguous().view(8, 3)\n",
        "x2 = x0.transpose(1, 2).reshape(8, 3)\n",
        "print('x1 shape: ', x1.shape)\n",
        "print('x2 shape: ', x2.shape)"
      ]
    },
    {
      "cell_type": "markdown",
      "metadata": {
        "id": "NgcdvD1evxTQ"
      },
      "source": [
        "## Tensor operations\n",
        "So far we have seen how to construct, access, and reshape tensors. But one of the most important reasons to use tensors is for performing computation! PyTorch provides many different operations to perform computations on tensors."
      ]
    },
    {
      "cell_type": "markdown",
      "metadata": {
        "id": "1BCVlPHZ4_Qz"
      },
      "source": [
        "### Elementwise operations"
      ]
    },
    {
      "cell_type": "markdown",
      "metadata": {
        "id": "f2wbN18E5CKI"
      },
      "source": [
        "Basic mathematical functions operate elementwise on tensors, and are available as operator overloads, as functions in the `torch` module, and as instance methods on torch objects; all produce the same results:"
      ]
    },
    {
      "cell_type": "code",
      "execution_count": null,
      "metadata": {
        "id": "QrMkbk535KRZ"
      },
      "outputs": [],
      "source": [
        "x = torch.tensor([[1, 2, 3, 4]], dtype=torch.float32)\n",
        "y = torch.tensor([[5, 6, 7, 8]], dtype=torch.float32)\n",
        "\n",
        "# Elementwise sum; all give the same result\n",
        "print('Elementwise sum:')\n",
        "print(x + y)\n",
        "print(torch.add(x, y))\n",
        "print(x.add(y))\n",
        "\n",
        "# Elementwise difference\n",
        "print('\\nElementwise difference:')\n",
        "print(x - y)\n",
        "print(torch.sub(x, y))\n",
        "print(x.sub(y))\n",
        "\n",
        "# Elementwise product\n",
        "print('\\nElementwise product:')\n",
        "print(x * y)\n",
        "print(torch.mul(x, y))\n",
        "print(x.mul(y))\n",
        "\n",
        "# Elementwise division\n",
        "print('\\nElementwise division')\n",
        "print(x / y)\n",
        "print(torch.div(x, y))\n",
        "print(x.div(y))\n",
        "\n",
        "# Elementwise power\n",
        "print('\\nElementwise power')\n",
        "print(x ** y)\n",
        "print(torch.pow(x, y))\n",
        "print(x.pow(y))"
      ]
    },
    {
      "cell_type": "markdown",
      "metadata": {
        "id": "A6WwPJMYlYvN"
      },
      "source": [
        "Torch also provides many standard mathematical functions; these are available both as functions in the `torch` module and as instance methods on tensors:\n",
        "\n",
        "You can find a full list of all available mathematical functions [in the documentation](https://pytorch.org/docs/stable/torch.html#pointwise-ops); many functions in the `torch` module have corresponding instance methods [on tensor objects](https://pytorch.org/docs/stable/tensors.html)."
      ]
    },
    {
      "cell_type": "code",
      "execution_count": null,
      "metadata": {
        "id": "s87mjsnG58vR"
      },
      "outputs": [],
      "source": [
        "x = torch.tensor([[1, 2, 3, 4]], dtype=torch.float32)\n",
        "\n",
        "print('Square root:')\n",
        "print(torch.sqrt(x))\n",
        "print(x.sqrt())\n",
        "\n",
        "print('\\nTrig functions:')\n",
        "print(torch.sin(x))\n",
        "print(x.sin())\n",
        "print(torch.cos(x))\n",
        "print(x.cos())"
      ]
    },
    {
      "cell_type": "markdown",
      "metadata": {
        "id": "yDyH9USAuyZ-"
      },
      "source": [
        "### Reduction operations"
      ]
    },
    {
      "cell_type": "markdown",
      "metadata": {
        "id": "wbHP9SpZHoMO"
      },
      "source": [
        "So far we've seen basic arithmetic operations on tensors that operate elementwise. We may sometimes want to perform operations that aggregate over part or all of a tensor, such as a summation; these are called **reduction** operations.\n",
        "\n",
        "Like the elementwise operations above, most reduction operations are available both as functions in the `torch` module and as instance methods on `tensor` objects.\n",
        "\n",
        "The simplest reduction operation is summation. We can use the [`.sum()`](https://pytorch.org/docs/stable/generated/torch.Tensor.sum.html) method (or eqivalently [`torch.sum`](https://pytorch.org/docs/stable/generated/torch.sum.html)) to reduce either an entire tensor, or to reduce along only one dimension of the tensor using the `dim` argument:"
      ]
    },
    {
      "cell_type": "code",
      "source": [
        "x = torch.tensor([[1, 2, 3],\n",
        "                  [4, 5, 6]], dtype=torch.float32)\n",
        "x.sum(dim=0)"
      ],
      "metadata": {
        "colab": {
          "base_uri": "https://localhost:8080/"
        },
        "id": "gMYBANaHiEQk",
        "outputId": "561421b3-7068-462a-e671-190a99b9ddd0"
      },
      "execution_count": null,
      "outputs": [
        {
          "output_type": "execute_result",
          "data": {
            "text/plain": [
              "tensor([5., 7., 9.])"
            ]
          },
          "metadata": {},
          "execution_count": 14
        }
      ]
    },
    {
      "cell_type": "code",
      "source": [
        "x = torch.tensor([[1, 2, 3],\n",
        "                  [4, 5, 6]], dtype=torch.float32)\n",
        "print(torch.sum(x, dim=0))\n"
      ],
      "metadata": {
        "colab": {
          "base_uri": "https://localhost:8080/"
        },
        "id": "9pTIf6Ih_b4t",
        "outputId": "55bd1044-4b06-4a58-91ae-d9a16d23bc76"
      },
      "execution_count": null,
      "outputs": [
        {
          "output_type": "stream",
          "name": "stdout",
          "text": [
            "tensor([5., 7., 9.])\n"
          ]
        }
      ]
    },
    {
      "cell_type": "code",
      "execution_count": null,
      "metadata": {
        "id": "LlmsYJWUE2r3",
        "colab": {
          "base_uri": "https://localhost:8080/"
        },
        "outputId": "eab02c96-da8f-48f5-ab8b-4ab8ab83d2df"
      },
      "outputs": [
        {
          "output_type": "stream",
          "name": "stdout",
          "text": [
            "Original tensor:\n",
            "tensor([[1., 2., 3.],\n",
            "        [4., 5., 6.]])\n",
            "\n",
            "Sum over entire tensor:\n",
            "tensor(21.)\n",
            "tensor(21.)\n",
            "\n",
            "Sum over the first dimension:\n",
            "tensor([5., 7., 9.])\n",
            "tensor([5., 7., 9.])\n",
            "\n",
            "Sum over the second dimension:\n",
            "tensor([ 6., 15.])\n",
            "tensor([ 6., 15.])\n"
          ]
        }
      ],
      "source": [
        "x = torch.tensor([[1, 2, 3],\n",
        "                  [4, 5, 6]], dtype=torch.float32)\n",
        "print('Original tensor:')\n",
        "print(x)\n",
        "\n",
        "print('\\nSum over entire tensor:')\n",
        "print(torch.sum(x))\n",
        "print(x.sum())\n",
        "\n",
        "# We can sum over the first dimension:\n",
        "print('\\nSum over the first dimension:')\n",
        "print(torch.sum(x, dim=0))\n",
        "print(x.sum(dim=0))\n",
        "\n",
        "# Sum over the second dimension:\n",
        "print('\\nSum over the second dimension:')\n",
        "print(torch.sum(x, dim=1))\n",
        "print(x.sum(dim=1))"
      ]
    },
    {
      "cell_type": "markdown",
      "metadata": {
        "id": "1WyS9SNNKdAa"
      },
      "source": [
        "Students often get confused by the `dim` argument in reduction operations -- how do I sum over rows vs columns?\n",
        "\n",
        "The easiest way to remember is to think about the shapes of the tensors involved.\n",
        "After summing with `dim=d`, the dimension at index `d` of the input is **eliminated** from the shape of the output tensor:"
      ]
    },
    {
      "cell_type": "code",
      "execution_count": null,
      "metadata": {
        "id": "IjrIixE0KdAa",
        "colab": {
          "base_uri": "https://localhost:8080/"
        },
        "outputId": "bcaa06d5-cda7-4941-d56b-9b67a6e33e17"
      },
      "outputs": [
        {
          "output_type": "stream",
          "name": "stdout",
          "text": [
            "x.shape:  torch.Size([3, 4, 5, 6])\n",
            "x.sum(dim=0).shape:  torch.Size([4, 5, 6])\n",
            "x.sum(dim=1).shape:  torch.Size([3, 5, 6])\n",
            "x.sum(dim=2).shape:  torch.Size([3, 4, 6])\n",
            "x.sum(dim=3).shape:  torch.Size([3, 4, 5])\n"
          ]
        }
      ],
      "source": [
        "# Create a tensor of shape (3, 4, 5, 6)\n",
        "x = torch.randn(3, 4, 5, 6)\n",
        "print('x.shape: ', x.shape)\n",
        "\n",
        "# Summing over dim=0 eliminates the dimension at index 0 (of size 3):\n",
        "print('x.sum(dim=0).shape: ', x.sum(dim=0).shape)\n",
        "\n",
        "# Summing with dim=1 eliminates the dimension at index 1 (of size 4):\n",
        "print('x.sum(dim=1).shape: ', x.sum(dim=1).shape)\n",
        "\n",
        "# Summing with dim=2 eliminates the dimension at index 2 (of size 5):\n",
        "print('x.sum(dim=2).shape: ', x.sum(dim=2).shape)\n",
        "\n",
        "# Summing with dim=3 eliminates the dimension at index 3 (of size 6):\n",
        "print('x.sum(dim=3).shape: ', x.sum(dim=3).shape)"
      ]
    },
    {
      "cell_type": "markdown",
      "metadata": {
        "id": "DzKio_3Quz5a"
      },
      "source": [
        "Other useful reduction operations include [`mean`](https://pytorch.org/docs/stable/generated/torch.mean.html), [`min`](https://pytorch.org/docs/stable/generated/torch.min.html), and [`max`](https://pytorch.org/docs/stable/generated/torch.max.html). You can find a full list of all available reduction operations [in the documentation](https://pytorch.org/docs/stable/torch.html#reduction-ops).\n",
        "\n",
        "Some reduction operations return more than one value; for example `min` returns both the minimum value over the specified dimension, as well as the index where the minimum value occurs:"
      ]
    },
    {
      "cell_type": "code",
      "execution_count": null,
      "metadata": {
        "id": "TFD7aT54H4ik",
        "colab": {
          "base_uri": "https://localhost:8080/"
        },
        "outputId": "0c04fc78-8a75-41c1-d58f-ad41d01e7e7d"
      },
      "outputs": [
        {
          "output_type": "stream",
          "name": "stdout",
          "text": [
            "Original tensor:\n",
            "tensor([[2., 4., 3., 5.],\n",
            "        [3., 3., 5., 2.]]) torch.Size([2, 4])\n",
            "\n",
            "Overall minimum:  tensor(2.)\n",
            "\n",
            "Minimum along each column:\n",
            "values: tensor([2., 3., 3., 2.])\n",
            "idxs: tensor([0, 1, 0, 1])\n",
            "\n",
            "Minimum along each row:\n",
            "values: tensor([2., 2.])\n",
            "idxs: tensor([0, 3])\n"
          ]
        }
      ],
      "source": [
        "x = torch.tensor([[2, 4, 3, 5], [3, 3, 5, 2]], dtype=torch.float32)\n",
        "print('Original tensor:')\n",
        "print(x, x.shape)\n",
        "\n",
        "# Finding the overall minimum only returns a single value\n",
        "print('\\nOverall minimum: ', x.min())\n",
        "\n",
        "# Compute the minimum along each column; we get both the value and location:\n",
        "# The minimum of the first column is 2, and it appears at index 0;\n",
        "# the minimum of the second column is 3 and it appears at index 1; etc\n",
        "col_min_vals, col_min_idxs = x.min(dim=0)\n",
        "print('\\nMinimum along each column:')\n",
        "print('values:', col_min_vals)\n",
        "print('idxs:', col_min_idxs)\n",
        "\n",
        "# Compute the minimum along each row; we get both the value and the minimum\n",
        "row_min_vals, row_min_idxs = x.min(dim=1)\n",
        "print('\\nMinimum along each row:')\n",
        "print('values:', row_min_vals)\n",
        "print('idxs:', row_min_idxs)"
      ]
    },
    {
      "cell_type": "markdown",
      "metadata": {
        "id": "XFwYRESoFr4t"
      },
      "source": [
        "Reduction operations *reduce* the rank of tensors: the dimension over which you perform the reduction will be removed from the shape of the output. If you pass `keepdim=True` to a reduction operation, the specified dimension will not be removed; the output tensor will instead have a shape of 1 in that dimension.\n",
        "\n",
        "When you are working with multidimensional tensors, thinking about rows and columns can become confusing; instead it's more useful to think about the shape that will result from each operation. For example:"
      ]
    },
    {
      "cell_type": "code",
      "execution_count": null,
      "metadata": {
        "id": "sjcAveyJFqm7"
      },
      "outputs": [],
      "source": [
        "# Create a tensor of shape (128, 10, 3, 64, 64)\n",
        "x = torch.randn(128, 10, 3, 64, 64)\n",
        "print(x.shape)\n",
        "\n",
        "# Take the mean over dimension 1; shape is now (128, 3, 64, 64)\n",
        "x = x.mean(dim=1)\n",
        "print(x.shape)\n",
        "\n",
        "# Take the sum over dimension 2; shape is now (128, 3, 64)\n",
        "x = x.sum(dim=2)\n",
        "print(x.shape)\n",
        "\n",
        "# Take the mean over dimension 1, but keep the dimension from being eliminated\n",
        "# by passing keepdim=True; shape is now (128, 1, 64)\n",
        "x = x.mean(dim=1, keepdim=True)\n",
        "print(x.shape)"
      ]
    },
    {
      "cell_type": "markdown",
      "metadata": {
        "id": "gXMp4tcM0Q_E"
      },
      "source": [
        "**Your turn**: Implement the function `zero_row_min` which sets the minimum value along each row of a tensor to zero. You should use reduction and indexing operations, and you should not use any explicit loops.\n",
        "\n",
        "Hint: [`clone`](https://pytorch.org/docs/stable/generated/torch.Tensor.clone.html), [`argmin`](https://pytorch.org/docs/stable/generated/torch.Tensor.argmin.html)"
      ]
    },
    {
      "cell_type": "code",
      "source": [
        "import torch\n",
        "# Type hints.\n",
        "from typing import List, Tuple\n",
        "from torch import Tensor"
      ],
      "metadata": {
        "id": "DMvhCOZNSTn-"
      },
      "execution_count": null,
      "outputs": []
    },
    {
      "cell_type": "code",
      "execution_count": null,
      "metadata": {
        "id": "aaJzt-Y62blF",
        "colab": {
          "base_uri": "https://localhost:8080/"
        },
        "outputId": "8a52af1f-818b-4fd2-a630-8c351bafab4e"
      },
      "outputs": [
        {
          "output_type": "stream",
          "name": "stdout",
          "text": [
            "Here is x0:\n",
            "tensor([[10, 20, 30],\n",
            "        [ 2,  5,  1]])\n",
            "Here is y0:\n",
            "tensor([[ 0, 20, 30],\n",
            "        [ 2,  5,  0]])\n",
            "y0 correct:  True\n",
            "\n",
            "Here is x1:\n",
            "tensor([[ 2,  5, 10, -1],\n",
            "        [ 1,  3,  2,  4],\n",
            "        [ 5,  6,  2, 10]])\n",
            "Here is y1:\n",
            "tensor([[ 2,  5, 10,  0],\n",
            "        [ 0,  3,  2,  4],\n",
            "        [ 5,  6,  0, 10]])\n",
            "y1 correct:  True\n"
          ]
        }
      ],
      "source": [
        "def zero_row_min(x: Tensor) -> Tensor:\n",
        "    \"\"\"\n",
        "    Return a copy of the input tensor x, where the minimum value along each row\n",
        "    has been set to 0.\n",
        "\n",
        "    For example, if x is:\n",
        "    x = torch.tensor([\n",
        "          [10, 20, 30],\n",
        "          [ 2,  5,  1]])\n",
        "\n",
        "    Then y = zero_row_min(x) should be:\n",
        "    torch.tensor([\n",
        "        [0, 20, 30],\n",
        "        [2,  5,  0]\n",
        "    ])\n",
        "\n",
        "    Your implementation shoud use reduction and indexing operations. You should\n",
        "    not use any Python loops (including comprehensions). The input tensor\n",
        "    should not be modified.\n",
        "\n",
        "    Args:\n",
        "        x: Tensor of shape (M, N)\n",
        "\n",
        "    Returns:\n",
        "        y: Tensor of shape (M, N) that is a copy of x, except the minimum value\n",
        "            along each row is replaced with 0.\n",
        "    \"\"\"\n",
        "    y = None\n",
        "    ##########################################################################\n",
        "    #                      TODO: Implement this function                     #\n",
        "    ##########################################################################\n",
        "    # Replace \"pass\" statement with your code\n",
        "    pass\n",
        "    #y = x.clone()\n",
        "    #for cnt, ind in enumerate(x.argmin(dim=-1)):\n",
        "    #  y[cnt, ind] = 0\n",
        "    ##########################################################################\n",
        "    #                            END OF YOUR CODE                            #\n",
        "    ##########################################################################\n",
        "    return y\n",
        "\n",
        "x0 = torch.tensor([[10, 20, 30], [2, 5, 1]])\n",
        "print('Here is x0:')\n",
        "print(x0)\n",
        "y0 = zero_row_min(x0)\n",
        "print('Here is y0:')\n",
        "print(y0)\n",
        "expected = [[0, 20, 30], [2, 5, 0]]\n",
        "y0_correct = torch.is_tensor(y0) and y0.tolist() == expected\n",
        "print('y0 correct: ', y0_correct)\n",
        "\n",
        "x1 = torch.tensor([[2, 5, 10, -1], [1, 3, 2, 4], [5, 6, 2, 10]])\n",
        "print('\\nHere is x1:')\n",
        "print(x1)\n",
        "y1 = zero_row_min(x1)\n",
        "print('Here is y1:')\n",
        "print(y1)\n",
        "expected = [[2, 5, 10, 0], [0, 3, 2, 4], [5, 6, 0, 10]]\n",
        "y1_correct = torch.is_tensor(y1) and y1.tolist() == expected\n",
        "print('y1 correct: ', y1_correct)"
      ]
    },
    {
      "cell_type": "markdown",
      "metadata": {
        "id": "lRyLyXU2u29N"
      },
      "source": [
        "### Matrix operations"
      ]
    },
    {
      "cell_type": "markdown",
      "metadata": {
        "id": "7DwjbapG6MM_"
      },
      "source": [
        "Note that unlike MATLAB, * is elementwise multiplication, not matrix multiplication. PyTorch provides a number of linear algebra functions that compute different types of vector and matrix products. The most commonly used are:\n",
        "\n",
        "- [`torch.dot`](https://pytorch.org/docs/stable/generated/torch.dot.html): Computes inner product of vectors\n",
        "- [`torch.mm`](https://pytorch.org/docs/stable/generated/torch.mm.html): Computes matrix-matrix products\n",
        "- [`torch.mv`](https://pytorch.org/docs/stable/generated/torch.mv.html): Computes matrix-vector products\n",
        "- [`torch.addmm`](https://pytorch.org/docs/stable/generated/torch.addmm.html) / [`torch.addmv`](https://pytorch.org/docs/stable/generated/torch.addmv.html): Computes matrix-matrix and matrix-vector multiplications plus a bias\n",
        "- [`torch.bmm`](https://pytorch.org/docs/stable/generated/torch.bmm.html) / [`torch.baddmm`](https://pytorch.org/docs/stable/generated/torch.baddbmm.html): Batched versions of `torch.mm` and `torch.addmm`, respectively\n",
        "- [`torch.matmul`](https://pytorch.org/docs/stable/generated/torch.matmul.html): General matrix product that performs different operations depending on the rank of the inputs. Confusingly, this is similar to `np.dot` in numpy.\n",
        "\n",
        "You can find a full list of the available linear algebra operators [in the documentation](https://pytorch.org/docs/stable/torch.html#blas-and-lapack-operations).\n",
        "All of these functions are also available as Tensor instance methods, e.g. [`Tensor.dot`](https://pytorch.org/docs/stable/generated/torch.Tensor.dot.html) instead of `torch.dot`.\n",
        "\n",
        "Here is an example of using `torch.dot` to compute inner products. Like the other mathematical operators we've seen, most linear algebra operators are available both as functions in the `torch` module and as instance methods of tensors:"
      ]
    },
    {
      "cell_type": "code",
      "execution_count": null,
      "metadata": {
        "id": "TRUYW2as6ZCh"
      },
      "outputs": [],
      "source": [
        "v = torch.tensor([9,10], dtype=torch.float32)\n",
        "w = torch.tensor([11, 12], dtype=torch.float32)\n",
        "\n",
        "# Inner product of vectors\n",
        "print('Dot products:')\n",
        "print(torch.dot(v, w))\n",
        "print(v.dot(w))\n",
        "\n",
        "# dot only works for vectors -- it will give an error for tensors of rank > 1\n",
        "x = torch.tensor([[1,2],[3,4]], dtype=torch.float32)\n",
        "y = torch.tensor([[5,6],[7,8]], dtype=torch.float32)\n",
        "try:\n",
        "  print(x.dot(y))\n",
        "except RuntimeError as e:\n",
        "  print(e)\n",
        "\n",
        "# Instead we use mm for matrix-matrix products:\n",
        "print('\\nMatrix-matrix product:')\n",
        "print(torch.mm(x, y))\n",
        "print(x.mm(y))"
      ]
    },
    {
      "cell_type": "markdown",
      "metadata": {
        "id": "MQRxK34KdHm3"
      },
      "source": [
        "With all the different linear algebra operators that PyTorch provides, there is usually more than one way to compute something. For example to compute matrix-vector products we can use `torch.mv`; we can reshape the vector to have rank 2 and use `torch.mm`; or we can use `torch.matmul`. All give the same results, but the outputs might have different ranks:"
      ]
    },
    {
      "cell_type": "code",
      "execution_count": null,
      "metadata": {
        "id": "qqEzcnHkdRYA"
      },
      "outputs": [],
      "source": [
        "print('Here is x (rank 2):')\n",
        "print(x)\n",
        "print('\\nHere is v (rank 1):')\n",
        "print(v)\n",
        "\n",
        "# Matrix-vector multiply with torch.mv produces a rank-1 output\n",
        "print('\\nMatrix-vector product with torch.mv (rank 1 output)')\n",
        "print(torch.mv(x, v))\n",
        "print(x.mv(v))\n",
        "\n",
        "# We can reshape the vector to have rank 2 and use torch.mm to perform\n",
        "# matrix-vector products, but the result will have rank 2\n",
        "print('\\nMatrix-vector product with torch.mm (rank 2 output)')\n",
        "print(torch.mm(x, v.view(2, 1)))\n",
        "print(x.mm(v.view(2, 1)))\n",
        "\n",
        "print('\\nMatrix-vector product with torch.matmul (rank 1 output)')\n",
        "print(torch.matmul(x, v))\n",
        "print(x.matmul(v))"
      ]
    },
    {
      "cell_type": "markdown",
      "metadata": {
        "id": "-eqQJ5IUjtNT"
      },
      "source": [
        "**Your turn**: Look at the function `batched_matrix_multiply`.\n",
        "\n",
        "You should implement the two variants `batched_matrix_multiply_loop` and `batched_matrix_multiply_noloop`; the first should use an explicit Python loop over the batch dimension, and the second should perform batched matrix multiplication using a single PyTorch operation with no explicit loops.\n",
        "\n",
        "Hint: [`torch.stack`](https://pytorch.org/docs/master/generated/torch.stack.html), [`torch.bmm`](https://pytorch.org/docs/stable/generated/torch.bmm.html) may be useful."
      ]
    },
    {
      "cell_type": "markdown",
      "source": [
        "### 과제 3: batched_matrix_multiply_loop"
      ],
      "metadata": {
        "id": "aCOjdXea_PlQ"
      }
    },
    {
      "cell_type": "code",
      "source": [
        "B = 5; N = 6; M=7; P =8\n",
        "x = torch.rand(B,N,M)\n",
        "y = torch.rand(B,M,P)\n",
        "# for xi, yi in zip(x,y):\n",
        "#   print(xi.shape, yi.shape)\n",
        "for i in range(B):\n",
        "  # print(x[i].shape, y[i].shape, x[i].mm(y[i]).shape)\n",
        "  # print(x[i].shape, y[i].shape, (x[i]@y[i]).shape)\n",
        "  print(x[i].shape, y[i].shape, torch.mm(x[i],y[i]).shape)"
      ],
      "metadata": {
        "colab": {
          "base_uri": "https://localhost:8080/"
        },
        "id": "lCuAlWWmp9M_",
        "outputId": "df11ca40-d8c6-4149-bd50-d7b49f9b568e"
      },
      "execution_count": null,
      "outputs": [
        {
          "output_type": "stream",
          "name": "stdout",
          "text": [
            "torch.Size([6, 7]) torch.Size([7, 8]) torch.Size([6, 8])\n",
            "torch.Size([6, 7]) torch.Size([7, 8]) torch.Size([6, 8])\n",
            "torch.Size([6, 7]) torch.Size([7, 8]) torch.Size([6, 8])\n",
            "torch.Size([6, 7]) torch.Size([7, 8]) torch.Size([6, 8])\n",
            "torch.Size([6, 7]) torch.Size([7, 8]) torch.Size([6, 8])\n",
            "torch.Size([6, 7]) torch.Size([7, 8]) torch.Size([6, 8])\n",
            "torch.Size([6, 7]) torch.Size([7, 8]) torch.Size([6, 8])\n",
            "torch.Size([6, 7]) torch.Size([7, 8]) torch.Size([6, 8])\n",
            "torch.Size([6, 7]) torch.Size([7, 8]) torch.Size([6, 8])\n",
            "torch.Size([6, 7]) torch.Size([7, 8]) torch.Size([6, 8])\n"
          ]
        }
      ]
    },
    {
      "cell_type": "code",
      "execution_count": null,
      "metadata": {
        "id": "sZD1VQHKVTRQ",
        "colab": {
          "base_uri": "https://localhost:8080/"
        },
        "outputId": "5a6cdeb2-aede-47cb-fdb0-269545b68ff9"
      },
      "outputs": [
        {
          "output_type": "stream",
          "name": "stdout",
          "text": [
            "z1 difference:  0.0\n",
            "z1 difference within tolerance:  True\n",
            "\n",
            "z2 difference:  2.384185791015625e-07\n",
            "z2 difference within tolerance:  True\n"
          ]
        }
      ],
      "source": [
        "def batched_matrix_multiply_loop(x: Tensor, y: Tensor) -> Tensor:\n",
        "    \"\"\"\n",
        "    Perform batched matrix multiplication between the tensor x of shape\n",
        "    (B, N, M) and the tensor y of shape (B, M, P).\n",
        "\n",
        "    This implementation should use a single explicit loop over the batch\n",
        "    dimension B to compute the output.\n",
        "\n",
        "    Args:\n",
        "        x: Tensor of shaper (B, N, M)\n",
        "        y: Tensor of shape (B, M, P)\n",
        "\n",
        "    Returns:\n",
        "        z: Tensor of shape (B, N, P) where z[i] of shape (N, P) is the result\n",
        "            of matrix multiplication between x[i] of shape (N, M) and y[i] of\n",
        "            shape (M, P). The output z should have the same dtype as x.\n",
        "    \"\"\"\n",
        "    z = None\n",
        "    ###########################################################################\n",
        "    #                      TODO: Implement this function                      #\n",
        "    ###########################################################################\n",
        "    # B = 5; N = 6; M=7; P =8\n",
        "    # x = torch.rand(B,N,M)\n",
        "    # y = torch.rand(B,M,P)\n",
        "    # # for xi, yi in zip(x,y):\n",
        "    # #   print(xi.shape, yi.shape)\n",
        "    # for i in range(B):\n",
        "    #   # print(x[i].shape, y[i].shape, x[i].mm(y[i]).shape)\n",
        "    #   # print(x[i].shape, y[i].shape, (x[i]@y[i]).shape)\n",
        "    #   print(x[i].shape, y[i].shape, torch.mm(x[i],y[i]).shape)\n",
        "    # Replace \"pass\" statement with your code\n",
        "    B = x.shape[0]\n",
        "    N = x.shape[1]\n",
        "    P = y.shape[2]\n",
        "    z = torch.zeros(B,N,P)\n",
        "    # for i, (xi, yi) in enumerate(zip(x,y)):\n",
        "    #   z[i] = torch.mm(xi,yi)\n",
        "    for i in range(B):\n",
        "      z[i] = torch.mm(x[i],y[i])\n",
        "      # print(z.shape, torch.mm(xi,yi).shape)\n",
        "    ###########################################################################\n",
        "    #                           END OF YOUR CODE                              #\n",
        "    ###########################################################################\n",
        "    return z\n",
        "\n",
        "def batched_matrix_multiply_noloop(x: Tensor, y: Tensor) -> Tensor:\n",
        "    \"\"\"\n",
        "    Perform batched matrix multiplication between the tensor x of shape\n",
        "    (B, N, M) and the tensor y of shape (B, M, P).\n",
        "\n",
        "    This implementation should use no explicit Python loops (including\n",
        "    comprehensions).\n",
        "\n",
        "    Hint: torch.bmm\n",
        "\n",
        "    Args:\n",
        "        x: Tensor of shaper (B, N, M)\n",
        "        y: Tensor of shape (B, M, P)\n",
        "\n",
        "    Returns:\n",
        "        z: Tensor of shape (B, N, P) where z[i] of shape (N, P) is the result\n",
        "            of matrix multiplication between x[i] of shape (N, M) and y[i] of\n",
        "            shape (M, P). The output z should have the same dtype as x.\n",
        "    \"\"\"\n",
        "    z = None\n",
        "    ###########################################################################\n",
        "    #                      TODO: Implement this function                      #\n",
        "    ###########################################################################\n",
        "    # Replace \"pass\" statement with your code\n",
        "    pass\n",
        "    z = torch.bmm(x,y)\n",
        "    ###########################################################################\n",
        "    #                            END OF YOUR CODE                             #\n",
        "    ###########################################################################\n",
        "    return z\n",
        "\n",
        "def batched_matrix_multiply(\n",
        "    x: Tensor, y: Tensor, use_loop: bool = True\n",
        ") -> Tensor:\n",
        "    \"\"\"\n",
        "    Perform batched matrix multiplication between the tensor x of shape\n",
        "    (B, N, M) and the tensor y of shape (B, M, P).\n",
        "\n",
        "    Depending on the value of use_loop, this calls to either\n",
        "    batched_matrix_multiply_loop or batched_matrix_multiply_noloop to perform\n",
        "    the actual computation. You don't need to implement anything here.\n",
        "\n",
        "    Args:\n",
        "        x: Tensor of shape (B, N, M)\n",
        "        y: Tensor of shape (B, M, P)\n",
        "        use_loop: Whether to use an explicit Python loop.\n",
        "\n",
        "    Returns:\n",
        "        z: Tensor of shape (B, N, P) where z[i] of shape (N, P) is the result\n",
        "            of matrix multiplication between x[i] of shape (N, M) and y[i] of\n",
        "            shape (M, P). The output z should have the same dtype as x.\n",
        "    \"\"\"\n",
        "    if use_loop:\n",
        "        return batched_matrix_multiply_loop(x, y)\n",
        "    else:\n",
        "        return batched_matrix_multiply_noloop(x, y)\n",
        "\n",
        "B, N, M, P = 2, 3, 5, 4\n",
        "x = torch.randn(B, N, M)\n",
        "y = torch.randn(B, M, P)\n",
        "z_expected = torch.stack([x[0] @ y[0], x[1] @ y[1]])\n",
        "\n",
        "# The two may not return exactly the same result; different linear algebra\n",
        "# routines often return slightly different results due to the fact that\n",
        "# floating-point math is non-exact and non-associative.\n",
        "z1 = batched_matrix_multiply(x, y, use_loop=True)\n",
        "z1_diff = (z1 - z_expected).abs().max().item()\n",
        "print('z1 difference: ', z1_diff)\n",
        "print('z1 difference within tolerance: ', z1_diff < 1e-6)\n",
        "\n",
        "z2 = batched_matrix_multiply(x, y, use_loop=False)\n",
        "z2_diff = (z2 - z_expected).abs().max().item()\n",
        "print('\\nz2 difference: ', z2_diff)\n",
        "print('z2 difference within tolerance: ', z2_diff < 1e-6)"
      ]
    },
    {
      "cell_type": "markdown",
      "metadata": {
        "id": "mbCVOr2sVTRR"
      },
      "source": [
        "### Vectorization\n",
        "In many cases, avoiding explicit Python loops in your code and instead using PyTorch operators to handle looping internally will cause your code to run a lot faster. This style of writing code, called **vectorization**, avoids overhead from the Python interpreter, and can also better parallelize the computation (e.g. across CPU cores, on on GPUs). Whenever possible you should strive to write vectorized code.\n",
        "\n",
        "Run the following and compare the speed of the `batched_matrix_multiply` with `use_loop=True` and with `use_loop=False`."
      ]
    },
    {
      "cell_type": "code",
      "execution_count": null,
      "metadata": {
        "id": "a-acTIOpVTRR"
      },
      "outputs": [],
      "source": [
        "import time\n",
        "import matplotlib.pyplot as plt\n",
        "\n",
        "N, M, P = 64, 64, 64\n",
        "loop_times = []\n",
        "no_loop_times = []\n",
        "no_loop_speedup = []\n",
        "Bs = list(range(4, 128, 4))\n",
        "num_trials = 20\n",
        "for B in Bs:\n",
        "    loop_trials = []\n",
        "    no_loop_trials = []\n",
        "    for trial in range(num_trials):\n",
        "        x = torch.randn(B, N, M)\n",
        "        y = torch.randn(B, M, P)\n",
        "        t0 = time.time()\n",
        "        z1 = batched_matrix_multiply(x, y, use_loop=True)\n",
        "        t1 = time.time()\n",
        "        z2 = batched_matrix_multiply(x, y, use_loop=False)\n",
        "        t2 = time.time()\n",
        "        loop_trials.append(t1 - t0)\n",
        "        no_loop_trials.append(t2 - t1)\n",
        "    loop_mean = torch.tensor(loop_trials).mean().item()\n",
        "    no_loop_mean = torch.tensor(no_loop_trials).mean().item()\n",
        "    loop_times.append(loop_mean)\n",
        "    no_loop_times.append(no_loop_mean)\n",
        "    no_loop_speedup.append(loop_mean / no_loop_mean)\n",
        "\n",
        "plt.subplot(1, 2, 1)\n",
        "plt.plot(Bs, loop_times, 'o-', label='use_loop=True')\n",
        "plt.plot(Bs, no_loop_times, 'o-', label='use_loop=False')\n",
        "plt.xlabel('Batch size B')\n",
        "plt.ylabel('Runtime (s)')\n",
        "plt.legend(fontsize=14)\n",
        "plt.title('Loop vs Vectorized speeds')\n",
        "\n",
        "plt.subplot(1, 2, 2)\n",
        "plt.plot(Bs, no_loop_speedup, '-o')\n",
        "plt.title('Vectorized speedup')\n",
        "plt.xlabel('Batch size B')\n",
        "plt.ylabel('Vectorized speedup')\n",
        "\n",
        "plt.gcf().set_size_inches(12, 4)\n",
        "plt.show()"
      ]
    },
    {
      "cell_type": "markdown",
      "metadata": {
        "id": "UISn2pcf9QjY"
      },
      "source": [
        "## Broadcasting"
      ]
    },
    {
      "cell_type": "markdown",
      "metadata": {
        "id": "fTj6f8VN9UZg"
      },
      "source": [
        "Broadcasting is a powerful mechanism that allows PyTorch to work with arrays of different shapes when performing arithmetic operations. Frequently we have a smaller tensor and a larger tensor, and we want to use the smaller tensor multiple times to perform some operation on the larger tensor.\n",
        "\n",
        "For example, suppose that we want to add a constant vector to each row of a tensor. We could do it like this:\n"
      ]
    },
    {
      "cell_type": "code",
      "execution_count": null,
      "metadata": {
        "id": "kF0Dhzlu9fef"
      },
      "outputs": [],
      "source": [
        "# We will add the vector v to each row of the matrix x,\n",
        "# storing the result in the matrix y\n",
        "x = torch.tensor([[1,2,3], [4,5,6], [7,8,9], [10, 11, 12]])\n",
        "v = torch.tensor([1, 0, 1])\n",
        "y = torch.zeros_like(x)   # Create an empty matrix with the same shape as x\n",
        "\n",
        "# Add the vector v to each row of the matrix x with an explicit loop\n",
        "for i in range(4):\n",
        "    y[i, :] = x[i, :] + v\n",
        "\n",
        "print(y)"
      ]
    },
    {
      "cell_type": "markdown",
      "metadata": {
        "id": "7gXpoBKE9vp7"
      },
      "source": [
        "This works; however when the tensor x is very large, computing an explicit loop in Python could be slow. Note that adding the vector v to each row of the tensor x is equivalent to forming a tensor vv by stacking multiple copies of v vertically, then performing elementwise summation of x and vv. We could implement this approach like this:\n"
      ]
    },
    {
      "cell_type": "code",
      "execution_count": null,
      "metadata": {
        "id": "_2_5cKeu94c2"
      },
      "outputs": [],
      "source": [
        "vv = v.repeat((4, 1))  # Stack 4 copies of v on top of each other\n",
        "print(vv)              # Prints \"[[1 0 1]\n",
        "                       #          [1 0 1]\n",
        "                       #          [1 0 1]\n",
        "                       #          [1 0 1]]\""
      ]
    },
    {
      "cell_type": "code",
      "execution_count": null,
      "metadata": {
        "id": "1KiRj23p-QIs"
      },
      "outputs": [],
      "source": [
        "y = x + vv  # Add x and vv elementwise\n",
        "print(y)"
      ]
    },
    {
      "cell_type": "markdown",
      "metadata": {
        "id": "A7NNlSsHBKib"
      },
      "source": [
        "PyTorch broadcasting allows us to perform this computation without actually creating multiple copies of v. Consider this version, using broadcasting:"
      ]
    },
    {
      "cell_type": "code",
      "execution_count": null,
      "metadata": {
        "id": "2jIiZc-ABBnt"
      },
      "outputs": [],
      "source": [
        "# We will add the vector v to each row of the matrix x,\n",
        "# storing the result in the matrix y\n",
        "x = torch.tensor([[1,2,3], [4,5,6], [7,8,9], [10, 11, 12]])\n",
        "v = torch.tensor([1, 0, 1])\n",
        "y = x + v  # Add v to each row of x using broadcasting\n",
        "print(y)"
      ]
    },
    {
      "cell_type": "markdown",
      "metadata": {
        "id": "HuUBX8YnBSIG"
      },
      "source": [
        "The line y = x + v works even though x has shape (4, 3) and v has shape (3,) due to broadcasting; this line works as if v actually had shape (4, 3), where each row was a copy of v, and the sum was performed elementwise.\n",
        "\n",
        "Broadcasting two tensors together follows these rules:\n",
        "\n",
        "1.   If the tensors do not have the same rank, prepend the shape of the lower rank array with 1s until both shapes have the same length.\n",
        "2.   The two tensors are said to be *compatible* in a dimension if they have the same size in the dimension, or if one of the tensors has size 1 in that dimension.\n",
        "3.   The tensors can be broadcast together if they are compatible in all dimensions.\n",
        "4.   After broadcasting, each tensor behaves as if it had shape equal to the elementwise maximum of shapes of the two input tensors.\n",
        "5.   In any dimension where one tensor had size 1 and the other tensor had size greater than 1, the first tensor behaves as if it were copied along that dimension\n",
        "\n",
        "If this explanation does not make sense, try reading the explanation from the [documentation](https://pytorch.org/docs/stable/notes/broadcasting.html).\n",
        "\n",
        "Broadcasting usually happens implicitly inside many PyTorch operators. However we can also broadcast explicitly using the function [`torch.broadcast_tensors`](https://pytorch.org/docs/stable/generated/torch.broadcast_tensors.html#torch.broadcast_tensors):"
      ]
    },
    {
      "cell_type": "code",
      "execution_count": null,
      "metadata": {
        "id": "YIlIBao3VTRc",
        "colab": {
          "base_uri": "https://localhost:8080/"
        },
        "outputId": "4ccfa7a7-21d6-4030-89d3-0348a47e410a"
      },
      "outputs": [
        {
          "output_type": "stream",
          "name": "stdout",
          "text": [
            "Here is x (before broadcasting):\n",
            "tensor([[ 1,  2,  3],\n",
            "        [ 4,  5,  6],\n",
            "        [ 7,  8,  9],\n",
            "        [10, 11, 12]])\n",
            "x.shape:  torch.Size([4, 3])\n",
            "\n",
            "Here is v (before broadcasting):\n",
            "tensor([1, 0, 1])\n",
            "v.shape:  torch.Size([3])\n",
            "Here is xx (after) broadcasting):\n",
            "tensor([[ 1,  2,  3],\n",
            "        [ 4,  5,  6],\n",
            "        [ 7,  8,  9],\n",
            "        [10, 11, 12]])\n",
            "xx.shape:  torch.Size([4, 3])\n",
            "\n",
            "Here is vv (after broadcasting):\n",
            "tensor([[1, 0, 1],\n",
            "        [1, 0, 1],\n",
            "        [1, 0, 1],\n",
            "        [1, 0, 1]])\n",
            "vv.shape:  torch.Size([4, 3])\n"
          ]
        }
      ],
      "source": [
        "x = torch.tensor([[1, 2, 3], [4, 5, 6], [7, 8, 9], [10, 11, 12]])\n",
        "v = torch.tensor([1, 0, 1])\n",
        "print('Here is x (before broadcasting):')\n",
        "print(x)\n",
        "print('x.shape: ', x.shape)\n",
        "print('\\nHere is v (before broadcasting):')\n",
        "print(v)\n",
        "print('v.shape: ', v.shape)\n",
        "\n",
        "xx, vv = torch.broadcast_tensors(x, v)\n",
        "print('Here is xx (after) broadcasting):')\n",
        "print(xx)\n",
        "print('xx.shape: ', x.shape)\n",
        "print('\\nHere is vv (after broadcasting):')\n",
        "print(vv)\n",
        "print('vv.shape: ', vv.shape)"
      ]
    },
    {
      "cell_type": "markdown",
      "metadata": {
        "id": "PWXtBo6eVTRf"
      },
      "source": [
        "Notice that after broadcasting, `x` remains the same but `v` has an extra dimension prepended to its shape, and it is duplicated to have the same shape as `x`; since they have the same shape after broadcasting they can be added elementwise.\n",
        "\n",
        "All elementwise functions support broadcasting.\n",
        "Some non-elementwise functions (such as linear algebra routines) also support broadcasting;\n",
        "you can check the documentation to tell whether any particular function supports broadcasting.\n",
        "For example [`torch.mm`](https://pytorch.org/docs/stable/generated/torch.mm.html) does not support broadcasting,\n",
        "but [`torch.matmul`](https://pytorch.org/docs/stable/generated/torch.matmul.html) does.\n",
        "\n",
        "Broadcasting can let us easily implement many different operations. For example we can compute an outer product of vectors:"
      ]
    },
    {
      "cell_type": "code",
      "execution_count": null,
      "metadata": {
        "id": "_W-k7-hpCwlT",
        "colab": {
          "base_uri": "https://localhost:8080/"
        },
        "outputId": "9172a3c0-d969-4edc-8e08-0753835f7260"
      },
      "outputs": [
        {
          "output_type": "stream",
          "name": "stdout",
          "text": [
            "tensor([[ 4,  5],\n",
            "        [ 8, 10],\n",
            "        [12, 15]])\n"
          ]
        }
      ],
      "source": [
        "# Compute outer product of vectors\n",
        "v = torch.tensor([1, 2, 3])  # v has shape (3,)\n",
        "w = torch.tensor([4, 5])     # w has shape (2,)\n",
        "# To compute an outer product, we first reshape v to be a column\n",
        "# vector of shape (3, 1); we can then broadcast it against w to yield\n",
        "# an output of shape (3, 2), which is the outer product of v and w:\n",
        "print(v.view(3, 1) * w)"
      ]
    },
    {
      "cell_type": "markdown",
      "metadata": {
        "id": "6a9EcX20moP_"
      },
      "source": [
        "We can add a vector to each row of a matrix:"
      ]
    },
    {
      "cell_type": "code",
      "execution_count": null,
      "metadata": {
        "id": "9bhmBiwcDF1B",
        "colab": {
          "base_uri": "https://localhost:8080/"
        },
        "outputId": "350093ac-35b1-4c51-8278-3766fabf5472"
      },
      "outputs": [
        {
          "output_type": "stream",
          "name": "stdout",
          "text": [
            "Here is the matrix:\n",
            "tensor([[1, 2, 3],\n",
            "        [4, 5, 6]])\n",
            "\n",
            "Here is the vector:\n",
            "tensor([1, 2, 3])\n",
            "\n",
            "Add the vector to each row of the matrix:\n",
            "tensor([[2, 4, 6],\n",
            "        [5, 7, 9]])\n"
          ]
        }
      ],
      "source": [
        "x = torch.tensor([[1, 2, 3], [4, 5, 6]])  # x has shape (2, 3)\n",
        "v = torch.tensor([1, 2, 3])               # v has shape (3,)\n",
        "print('Here is the matrix:')\n",
        "print(x)\n",
        "print('\\nHere is the vector:')\n",
        "print(v)\n",
        "\n",
        "# x has shape (2, 3) and v has shape (3,) so they broadcast to (2, 3),\n",
        "# giving the following matrix:\n",
        "print('\\nAdd the vector to each row of the matrix:')\n",
        "print(x + v)"
      ]
    },
    {
      "cell_type": "markdown",
      "metadata": {
        "id": "jYloJIvmm_Me"
      },
      "source": [
        "We can add a vector to each column of a matrix:"
      ]
    },
    {
      "cell_type": "code",
      "source": [
        "x = torch.tensor([[1, 2, 3], [4, 5, 6]])  # x has shape (2, 3)\n",
        "w = torch.tensor([4, 5])                  # w has shape (2,)\n",
        "print('Here is the matrix:')\n",
        "print(x)\n",
        "print('\\nHere is the vector:')\n",
        "print(w)\n",
        "\n",
        "# x has shape (2, 3) and w has shape (2,). We reshape w to (2, 1);\n",
        "# then when we add the two the result broadcasts to (2, 3):\n",
        "print('\\nAdd the vector to each column of the matrix:')\n",
        "print(x + w)"
      ],
      "metadata": {
        "colab": {
          "base_uri": "https://localhost:8080/",
          "height": 354
        },
        "id": "B-MHFxwXKAYI",
        "outputId": "dad07901-9334-4dc6-9f27-0523c2898deb"
      },
      "execution_count": null,
      "outputs": [
        {
          "output_type": "stream",
          "name": "stdout",
          "text": [
            "Here is the matrix:\n",
            "tensor([[1, 2, 3],\n",
            "        [4, 5, 6]])\n",
            "\n",
            "Here is the vector:\n",
            "tensor([4, 5])\n",
            "\n",
            "Add the vector to each column of the matrix:\n"
          ]
        },
        {
          "output_type": "error",
          "ename": "RuntimeError",
          "evalue": "ignored",
          "traceback": [
            "\u001b[0;31m---------------------------------------------------------------------------\u001b[0m",
            "\u001b[0;31mRuntimeError\u001b[0m                              Traceback (most recent call last)",
            "\u001b[0;32m<ipython-input-22-49c1c2b96c4f>\u001b[0m in \u001b[0;36m<module>\u001b[0;34m()\u001b[0m\n\u001b[1;32m      9\u001b[0m \u001b[0;31m# then when we add the two the result broadcasts to (2, 3):\u001b[0m\u001b[0;34m\u001b[0m\u001b[0;34m\u001b[0m\u001b[0;34m\u001b[0m\u001b[0m\n\u001b[1;32m     10\u001b[0m \u001b[0mprint\u001b[0m\u001b[0;34m(\u001b[0m\u001b[0;34m'\\nAdd the vector to each column of the matrix:'\u001b[0m\u001b[0;34m)\u001b[0m\u001b[0;34m\u001b[0m\u001b[0;34m\u001b[0m\u001b[0m\n\u001b[0;32m---> 11\u001b[0;31m \u001b[0mprint\u001b[0m\u001b[0;34m(\u001b[0m\u001b[0mx\u001b[0m \u001b[0;34m+\u001b[0m \u001b[0mw\u001b[0m\u001b[0;34m)\u001b[0m\u001b[0;34m\u001b[0m\u001b[0;34m\u001b[0m\u001b[0m\n\u001b[0m",
            "\u001b[0;31mRuntimeError\u001b[0m: The size of tensor a (3) must match the size of tensor b (2) at non-singleton dimension 1"
          ]
        }
      ]
    },
    {
      "cell_type": "code",
      "execution_count": null,
      "metadata": {
        "id": "TDTFKACqDK22",
        "colab": {
          "base_uri": "https://localhost:8080/"
        },
        "outputId": "c9f21873-61c7-4f45-c876-2a22e76872d1"
      },
      "outputs": [
        {
          "output_type": "stream",
          "name": "stdout",
          "text": [
            "Here is the matrix:\n",
            "tensor([[1, 2, 3],\n",
            "        [4, 5, 6]])\n",
            "\n",
            "Here is the vector:\n",
            "tensor([4, 5])\n",
            "\n",
            "Add the vector to each column of the matrix:\n",
            "tensor([[ 5,  6,  7],\n",
            "        [ 9, 10, 11]])\n",
            "tensor([[ 5,  6,  7],\n",
            "        [ 9, 10, 11]])\n"
          ]
        }
      ],
      "source": [
        "x = torch.tensor([[1, 2, 3], [4, 5, 6]])  # x has shape (2, 3)\n",
        "w = torch.tensor([4, 5])                  # w has shape (2,)\n",
        "print('Here is the matrix:')\n",
        "print(x)\n",
        "print('\\nHere is the vector:')\n",
        "print(w)\n",
        "\n",
        "# x has shape (2, 3) and w has shape (2,). We reshape w to (2, 1);\n",
        "# then when we add the two the result broadcasts to (2, 3):\n",
        "print('\\nAdd the vector to each column of the matrix:')\n",
        "print(x + w.view(-1, 1))\n",
        "\n",
        "# Another solution is the following:\n",
        "# 1. Transpose x so it has shape (3, 2)\n",
        "# 2. Since w has shape (2,), adding will broadcast to (3, 2)\n",
        "# 3. Transpose the result, resulting in a shape (2, 3)\n",
        "print((x.t() + w).t())"
      ]
    },
    {
      "cell_type": "markdown",
      "metadata": {
        "id": "9717YmBBpBfr"
      },
      "source": [
        "Multiply a tensor by a set of constants:"
      ]
    },
    {
      "cell_type": "code",
      "execution_count": null,
      "metadata": {
        "id": "4UjWDp_XDc_-",
        "colab": {
          "base_uri": "https://localhost:8080/"
        },
        "outputId": "0409e168-4e29-490c-f326-cc8f730c571c"
      },
      "outputs": [
        {
          "output_type": "stream",
          "name": "stdout",
          "text": [
            "Here is the matrix:\n",
            "tensor([[1, 2, 3],\n",
            "        [4, 5, 6]])\n",
            "\n",
            "Here is the vector:\n",
            "tensor([  1,  10,  11, 100])\n",
            "\n",
            "Multiply x by a set of constants:\n",
            "tensor([[[  1,   2,   3],\n",
            "         [  4,   5,   6]],\n",
            "\n",
            "        [[ 10,  20,  30],\n",
            "         [ 40,  50,  60]],\n",
            "\n",
            "        [[ 11,  22,  33],\n",
            "         [ 44,  55,  66]],\n",
            "\n",
            "        [[100, 200, 300],\n",
            "         [400, 500, 600]]])\n"
          ]
        }
      ],
      "source": [
        "x = torch.tensor([[1, 2, 3], [4, 5, 6]])  # x has shape (2, 3)\n",
        "c = torch.tensor([1, 10, 11, 100])        # c has shape (4)\n",
        "print('Here is the matrix:')\n",
        "print(x)\n",
        "print('\\nHere is the vector:')\n",
        "print(c)\n",
        "\n",
        "# We do the following:\n",
        "# 1. Reshape c from (4,) to (4, 1, 1)\n",
        "# 2. x has shape (2, 3). Since they have different ranks, when we multiply the\n",
        "#    two, x behaves as if its shape were (1, 2, 3)\n",
        "# 3. The result of the broadcast multiplication between tensor of shape\n",
        "#    (4, 1, 1) and (1, 2, 3) has shape (4, 2, 3)\n",
        "# 4. The result y has shape (4, 2, 3), and y[i] (shape (2, 3)) is equal to\n",
        "#    c[i] * x\n",
        "y = c.view(-1, 1, 1) * x\n",
        "print('\\nMultiply x by a set of constants:')\n",
        "print(y)"
      ]
    },
    {
      "cell_type": "markdown",
      "metadata": {
        "id": "J2EHXFBFq1ea"
      },
      "source": [
        "**Your turn**: Implement the function `normalize_columns` that normalizes the columns of a matrix. It should compute the mean and standard deviation of each column, then subtract the mean and divide by the standard deviation for each element in the column.\n",
        "\n",
        "Example:\n",
        "```\n",
        "x = [[ 0,  30,  600],\n",
        "     [ 1,  10,  200],\n",
        "     [-1,  20,  400]]\n",
        "```\n",
        "- The first column has mean 0 and std 1\n",
        "- The second column has mean 20 and std 10\n",
        "- The third column has mean 400 and std 200\n",
        "\n",
        "After normalizing the columns, the result should be:\n",
        "```\n",
        "y = [[ 0,  1,  1],\n",
        "     [ 1, -1, -1],\n",
        "     [-1,  0,  0]]\n",
        "```\n",
        "\n",
        "Recall that given scalars $x_1,\\ldots,x_M$ the mean $\\mu$ and standard deviation $\\sigma$ are given by\n",
        "\n",
        "$$\\mu=\\frac{1}{M}\\sum_{i=1}^M x_i \\hspace{4pc} \\sigma = \\sqrt{\\frac{1}{M-1}\\sum_{i=1}^M(x_i-\\mu)^2}$$"
      ]
    },
    {
      "cell_type": "markdown",
      "source": [
        "### 과제 4: normalize_columns\n"
      ],
      "metadata": {
        "id": "jCWXVf6l_CrJ"
      }
    },
    {
      "cell_type": "code",
      "execution_count": null,
      "metadata": {
        "id": "rVh1DMqMr3zl",
        "colab": {
          "base_uri": "https://localhost:8080/"
        },
        "outputId": "ef9b8b67-14bb-4838-b353-6e88557a56e5"
      },
      "outputs": [
        {
          "output_type": "stream",
          "name": "stdout",
          "text": [
            "Here is x:\n",
            "tensor([[  0.,  30., 600.],\n",
            "        [  1.,  10., 200.],\n",
            "        [ -1.,  20., 400.]])\n",
            "Here is y:\n",
            "tensor([[ 0.,  1.,  1.],\n",
            "        [ 1., -1., -1.],\n",
            "        [-1.,  0.,  0.]])\n",
            "y correct:  True\n",
            "x unchanged:  True\n"
          ]
        }
      ],
      "source": [
        "def normalize_columns(x: Tensor) -> Tensor:\n",
        "    \"\"\"\n",
        "    Normalize the columns of the matrix x by subtracting the mean and dividing\n",
        "    by standard deviation of each column. You should return a new tensor; the\n",
        "    input should not be modified.\n",
        "\n",
        "    More concretely, given an input tensor x of shape (M, N), produce an output\n",
        "    tensor y of shape (M, N) where y[i, j] = (x[i, j] - mu_j) / sigma_j, where\n",
        "    mu_j is the mean of the column x[:, j].\n",
        "\n",
        "    Your implementation should not use any explicit Python loops (including\n",
        "    comprehensions); you may only use basic arithmetic operations on tensors\n",
        "    (+, -, *, /, **, sqrt), the sum reduction function, and reshape operations\n",
        "    to facilitate broadcasting. You should not use torch.mean, torch.std, or\n",
        "    their instance method variants x.mean, x.std.\n",
        "\n",
        "    Args:\n",
        "        x: Tensor of shape (M, N).\n",
        "\n",
        "    Returns:\n",
        "        y: Tensor of shape (M, N) as described above. It should have the same\n",
        "            dtype as the input x.\n",
        "    \"\"\"\n",
        "    y = None\n",
        "    ##########################################################################\n",
        "    #                      TODO: Implement this function                     #\n",
        "    ##########################################################################\n",
        "    # Replace \"pass\" statement with your code\n",
        "    pass\n",
        "    y=(x-x.mean(dim=0))/x.std(dim=0)\n",
        "    ##########################################################################\n",
        "    #                            END OF YOUR CODE                            #\n",
        "    ##########################################################################\n",
        "    return y\n",
        "\n",
        "x = torch.tensor([[0., 30., 600.], [1., 10., 200.], [-1., 20., 400.]])\n",
        "y = normalize_columns(x)\n",
        "print('Here is x:')\n",
        "print(x)\n",
        "print('Here is y:')\n",
        "print(y)\n",
        "\n",
        "x_expected = [[0., 30., 600.], [1., 10., 200.], [-1., 20., 400.]]\n",
        "y_expected = [[0., 1., 1.], [1., -1., -1.], [-1., 0., 0.]]\n",
        "y_correct = y.tolist() == y_expected\n",
        "x_correct = x.tolist() == x_expected\n",
        "print('y correct: ', y_correct)\n",
        "print('x unchanged: ', x_correct)"
      ]
    },
    {
      "cell_type": "markdown",
      "metadata": {
        "id": "uNTk5heeVTRr"
      },
      "source": [
        "In general, **you should avoid in-place operations** since they can cause problems when computing gradients using autograd (which we will cover in a future assignment)."
      ]
    },
    {
      "cell_type": "markdown",
      "metadata": {
        "id": "uN6FfqU9wFeG"
      },
      "source": [
        "## Running on GPU"
      ]
    },
    {
      "cell_type": "markdown",
      "metadata": {
        "id": "Ds6SDTbrwOc1"
      },
      "source": [
        "**Note: this section requires a GPU! If you do not have a computer with a CUDA-enabled GPU, you can complete this portion of the notebook on Google Colab.**\n",
        "\n",
        "One of the most important features of PyTorch is that it can use graphics processing units (GPUs) to accelerate its tensor operations.\n",
        "\n",
        "We can easily check whether PyTorch is configured to use GPUs:\n",
        "\n",
        "Tensors can be moved onto any device using the .to method."
      ]
    },
    {
      "cell_type": "code",
      "source": [
        "import torch\n",
        "\n",
        "torch.cuda.is_available()\n"
      ],
      "metadata": {
        "colab": {
          "base_uri": "https://localhost:8080/"
        },
        "id": "QP1bNZaBMUf4",
        "outputId": "702fa15e-4947-4ac1-b0aa-5af9b546d72f"
      },
      "execution_count": null,
      "outputs": [
        {
          "output_type": "execute_result",
          "data": {
            "text/plain": [
              "False"
            ]
          },
          "metadata": {},
          "execution_count": 26
        }
      ]
    },
    {
      "cell_type": "code",
      "execution_count": null,
      "metadata": {
        "id": "_RkoFEVVKWlW"
      },
      "outputs": [],
      "source": [
        "import torch\n",
        "\n",
        "if torch.cuda.is_available():\n",
        "  print('PyTorch can use GPUs!')\n",
        "else:\n",
        "  print('PyTorch cannot use GPUs.')"
      ]
    },
    {
      "cell_type": "markdown",
      "metadata": {
        "id": "7i_5n_XuKr5k"
      },
      "source": [
        "You can enable GPUs in Colab via Runtime -> Change Runtime Type -> Hardware Accelerator -> GPU.\n",
        "\n",
        "This may cause the Colab runtime to restart, so we will re-import torch in the next cell.\n",
        "\n",
        "We have already seen that PyTorch tensors have a `dtype` attribute specifying their datatype. All PyTorch tensors also have a `device` attribute that specifies the device where the tensor is stored -- either CPU, or CUDA (for NVIDA GPUs). A tensor on a CUDA device will automatically use that device to accelerate all of its operations.\n",
        "\n",
        "Just as with datatypes, we can use the [`.to()`](https://pytorch.org/docs/1.1.0/tensors.html#torch.Tensor.to) method to change the device of a tensor. We can also use the convenience methods `.cuda()` and `.cpu()` methods to move tensors between CPU and GPU."
      ]
    },
    {
      "cell_type": "code",
      "execution_count": null,
      "metadata": {
        "id": "D03s614dMCvy"
      },
      "outputs": [],
      "source": [
        "# Construct a tensor on the CPU\n",
        "x0 = torch.tensor([[1, 2], [3, 4]], dtype=torch.float32)\n",
        "print('x0 device:', x0.device)\n",
        "\n",
        "# Move it to the GPU using .to()\n",
        "x1 = x0.to('cuda')\n",
        "print('x1 device:', x1.device)\n",
        "\n",
        "# Move it to the GPU using .cuda()\n",
        "x2 = x0.cuda()\n",
        "print('x2 device:', x2.device)\n",
        "\n",
        "# Move it back to the CPU using .to()\n",
        "x3 = x1.to('cpu')\n",
        "print('x3 device:', x3.device)\n",
        "\n",
        "# Move it back to the CPU using .cpu()\n",
        "x4 = x2.cpu()\n",
        "print('x4 device:', x4.device)\n",
        "\n",
        "# We can construct tensors directly on the GPU as well\n",
        "y = torch.tensor([[1, 2, 3], [4, 5, 6]], dtype=torch.float64, device='cuda')\n",
        "print('y device / dtype:', y.device, y.dtype)\n",
        "\n",
        "# Calling x.to(y) where y is a tensor will return a copy of x with the same\n",
        "# device and dtype as y\n",
        "x5 = x0.to(y)\n",
        "print('x5 device / dtype:', x5.device, x5.dtype)"
      ]
    },
    {
      "cell_type": "markdown",
      "metadata": {
        "id": "O-TDxICdOmJo"
      },
      "source": [
        "Performing large tensor operations on a GPU can be **a lot faster** than running the equivalent operation on CPU.\n",
        "\n",
        "Here we compare the speed of adding two tensors of shape (10000, 10000) on CPU and GPU:\n",
        "\n",
        "(Note that GPU code may run asynchronously with CPU code, so when timing the speed of operations on the GPU it is important to use `torch.cuda.synchronize` to synchronize the CPU and GPU.)"
      ]
    },
    {
      "cell_type": "code",
      "execution_count": null,
      "metadata": {
        "id": "GW14ZF-_PK7t"
      },
      "outputs": [],
      "source": [
        "import time\n",
        "\n",
        "a_cpu = torch.randn(10000, 10000, dtype=torch.float32)\n",
        "b_cpu = torch.randn(10000, 10000, dtype=torch.float32)\n",
        "\n",
        "a_gpu = a_cpu.cuda()\n",
        "b_gpu = b_cpu.cuda()\n",
        "torch.cuda.synchronize()\n",
        "\n",
        "t0 = time.time()\n",
        "c_cpu = a_cpu + b_cpu\n",
        "t1 = time.time()\n",
        "c_gpu = a_gpu + b_gpu\n",
        "torch.cuda.synchronize()\n",
        "t2 = time.time()\n",
        "\n",
        "# Check that they computed the same thing\n",
        "diff = (c_gpu.cpu() - c_cpu).abs().max().item()\n",
        "print('Max difference between c_gpu and c_cpu:', diff)\n",
        "\n",
        "cpu_time = 1000.0 * (t1 - t0)\n",
        "gpu_time = 1000.0 * (t2 - t1)\n",
        "print('CPU time: %.2f ms' % cpu_time)\n",
        "print('GPU time: %.2f ms' % gpu_time)\n",
        "print('GPU speedup: %.2f x' % (cpu_time / gpu_time))"
      ]
    },
    {
      "cell_type": "markdown",
      "metadata": {
        "id": "7HEAVPEwviYb"
      },
      "source": [
        "You should see that running the same computation on the GPU was more than 10~30 times faster than on the CPU!\n",
        "\n",
        "**Your turn**: Use the GPU to accelerate the following matrix multiplication operation. You should see 5~10x speedup by using the GPU."
      ]
    },
    {
      "cell_type": "code",
      "source": [
        "!nvidia-smi"
      ],
      "metadata": {
        "id": "9G0FdaSlNQHO"
      },
      "execution_count": null,
      "outputs": []
    },
    {
      "cell_type": "code",
      "source": [
        "import torch\n",
        "x = torch.rand(512, 4096)\n",
        "w = torch.rand(4096, 4096)\n",
        "x.device"
      ],
      "metadata": {
        "colab": {
          "base_uri": "https://localhost:8080/"
        },
        "id": "tPuvyrLONJQl",
        "outputId": "255f4234-c50f-449a-d8aa-a1902cd0dd4d"
      },
      "execution_count": null,
      "outputs": [
        {
          "output_type": "execute_result",
          "data": {
            "text/plain": [
              "device(type='cpu')"
            ]
          },
          "metadata": {},
          "execution_count": 1
        }
      ]
    },
    {
      "cell_type": "code",
      "execution_count": null,
      "metadata": {
        "id": "uqEUdst7SAuZ",
        "colab": {
          "base_uri": "https://localhost:8080/"
        },
        "outputId": "33f7e148-3f87-4661-dfdb-07a56c3ace62"
      },
      "outputs": [
        {
          "output_type": "stream",
          "name": "stdout",
          "text": [
            "y1 on CPU: True\n",
            "Max difference between y0 and y1: 0.00439453125\n",
            "Difference within tolerance: True\n",
            "CPU time: 326.98 ms\n",
            "GPU time: 9073.61 ms\n",
            "GPU speedup: 0.04 x\n"
          ]
        }
      ],
      "source": [
        "import time\n",
        "\n",
        "x = torch.rand(512, 4096)\n",
        "w = torch.rand(4096, 4096)\n",
        "\n",
        "t0 = time.time()\n",
        "y0 = x.mm(w)\n",
        "t1 = time.time()\n",
        "\n",
        "##############################################################################\n",
        "# TODO: Write a bit of code that performs matrix multiplication of x and w   #\n",
        "# on the GPU, and then moves the result back to the CPU. Store the result    #\n",
        "# in y1.\n",
        "##############################################################################\n",
        "# Replace \"pass\" statement with your code\n",
        "pass\n",
        "#x_gpu = x.cuda()\n",
        "#w_gpu = w.to('cuda')\n",
        "#y1 = x_gpu.mm(w_gpu)\n",
        "#y1 = y1.cpu()\n",
        "##############################################################################\n",
        "#                             END OF YOUR CODE                               #\n",
        "##############################################################################\n",
        "torch.cuda.synchronize()\n",
        "t2 = time.time()\n",
        "\n",
        "print('y1 on CPU:', y1.device == torch.device('cpu'))\n",
        "diff = (y0 - y1).abs().max().item()\n",
        "print('Max difference between y0 and y1:', diff)\n",
        "print('Difference within tolerance:', diff < 5e-2)\n",
        "\n",
        "cpu_time = 1000.0 * (t1 - t0)\n",
        "gpu_time = 1000.0 * (t2 - t1)\n",
        "print('CPU time: %.2f ms' % cpu_time)\n",
        "print('GPU time: %.2f ms' % gpu_time)\n",
        "print('GPU speedup: %.2f x' % (cpu_time / gpu_time))"
      ]
    },
    {
      "cell_type": "code",
      "source": [
        "import time\n",
        "\n",
        "x = torch.rand(512, 4096)\n",
        "w = torch.rand(4096, 4096)\n",
        "\n",
        "t0 = time.time()\n",
        "y0 = x.mm(w)\n",
        "t1 = time.time()\n",
        "\n",
        "##############################################################################\n",
        "# TODO: Write a bit of code that performs matrix multiplication of x and w   #\n",
        "# on the GPU, and then moves the result back to the CPU. Store the result    #\n",
        "# in y1.\n",
        "##############################################################################\n",
        "# Replace \"pass\" statement with your code\n",
        "pass\n",
        "#x_gpu = x.cuda()\n",
        "#w_gpu = w.to('cuda')\n",
        "#y1 = x_gpu.mm(w_gpu)\n",
        "#y1 = y1.cpu()\n",
        "##############################################################################\n",
        "#                             END OF YOUR CODE                               #\n",
        "##############################################################################\n",
        "torch.cuda.synchronize()\n",
        "t2 = time.time()\n",
        "\n",
        "print('y1 on CPU:', y1.device == torch.device('cpu'))\n",
        "diff = (y0 - y1).abs().max().item()\n",
        "print('Max difference between y0 and y1:', diff)\n",
        "print('Difference within tolerance:', diff < 5e-2)\n",
        "\n",
        "cpu_time = 1000.0 * (t1 - t0)\n",
        "gpu_time = 1000.0 * (t2 - t1)\n",
        "print('CPU time: %.2f ms' % cpu_time)\n",
        "print('GPU time: %.2f ms' % gpu_time)\n",
        "print('GPU speedup: %.2f x' % (cpu_time / gpu_time))"
      ],
      "metadata": {
        "colab": {
          "base_uri": "https://localhost:8080/"
        },
        "id": "ZRRkAGXbOVhP",
        "outputId": "508b0abd-492d-4a6b-b545-cd3e56f162ec"
      },
      "execution_count": null,
      "outputs": [
        {
          "output_type": "stream",
          "name": "stdout",
          "text": [
            "y1 on CPU: True\n",
            "Max difference between y0 and y1: 0.00433349609375\n",
            "Difference within tolerance: True\n",
            "CPU time: 492.65 ms\n",
            "GPU time: 30.20 ms\n",
            "GPU speedup: 16.31 x\n"
          ]
        }
      ]
    }
  ],
  "metadata": {
    "colab": {
      "provenance": []
    },
    "kernelspec": {
      "display_name": "Python 3 (ipykernel)",
      "language": "python",
      "name": "python3"
    },
    "language_info": {
      "codemirror_mode": {
        "name": "ipython",
        "version": 3
      },
      "file_extension": ".py",
      "mimetype": "text/x-python",
      "name": "python",
      "nbconvert_exporter": "python",
      "pygments_lexer": "ipython3",
      "version": "3.8.12"
    }
  },
  "nbformat": 4,
  "nbformat_minor": 0
}